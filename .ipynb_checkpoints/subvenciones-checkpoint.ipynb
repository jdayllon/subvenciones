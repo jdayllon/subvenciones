{
 "cells": [
  {
   "cell_type": "code",
   "execution_count": 162,
   "metadata": {
    "collapsed": false
   },
   "outputs": [
    {
     "name": "stdout",
     "output_type": "stream",
     "text": [
      "The autoreload extension is already loaded. To reload it, use:\n",
      "  %reload_ext autoreload\n"
     ]
    }
   ],
   "source": [
    "from __future__ import division\n",
    "import csv,sys\n",
    "import numpy as np\n",
    "import pandas as pd\n",
    "import re\n",
    "#import matplotlib.pyplot as plt\n",
    "from datetime import datetime, timedelta\n",
    "import time, locale\n",
    "#Plot.ly\n",
    "import plotly.plotly as py\n",
    "from plotly.graph_objs import *\n",
    "#from IPython import display as d\n",
    "#import nvd3\n",
    "from money import Money\n",
    "### Librerias Propias\n",
    "from load_data import obtener_provincia_cif\n",
    "from load_data import obtener_tipo_cif\n",
    "from load_data import obtener_tipo_cif_resumen\n",
    "from load_data import string_to_timestamp\n",
    "from load_data import listar_subvenciones_mes_grupo\n",
    "from load_data import filtra_importes_grupo\n",
    "\n",
    "#from nvd3 import discreteBarChart\n",
    "%load_ext autoreload\n",
    "%autoreload 2\n",
    "\n",
    "#reload(sys)  # Reload does the trick!\n",
    "#sys.setdefaultencoding('UTF8')\n",
    "\n",
    "#nvd3.ipynb.initialize_javascript(use_remote=True)\n",
    "\n",
    "#locale.setlocale(locale.LC_ALL, 'es_ES')\n",
    "#locale.setlocale(locale.LC_ALL, 'C')\n",
    "#locale.format(\"%10.2f\", 1234.567, grouping=True) \n",
    "#pd.options.display.float_format = '{:,.2f}'.format\n",
    "\n",
    "# Static files\n",
    "FILE_SUBVENCIONES = 'data/datos_subvenciones_2.csv'\n",
    "FILE_AYUDAS = 'data/ayudas.json'\n",
    "FILE_ELECCIONES = 'data/04_201105_1.csv'\n",
    "FILE_MUNICIPIOS = 'data/smex99.csv'\n",
    "FILE_ENTES_LOCALES = 'data/entes_locales.csv'\n",
    "FILE_ENTES_JJAA = 'data/entes_jjaa.csv'\n",
    "FILE_FUNCIONAL_PRESUPUESTO = 'data/partidas_presupuesto_gasto.csv'\n",
    "# Referencias de partidas del presupuesto: http://www.juntadeandalucia.es/haciendayadministracionpublica/planif_presup/proy_presupuesto2014/presentacion/presentacion-5.pdf"
   ]
  },
  {
   "cell_type": "markdown",
   "metadata": {},
   "source": [
    "Fuentes de Información\n",
    "----------------------\n",
    "\n",
    "El siguiente análisis está basado en las siguientes fuentes de datos:\n",
    "* Subvenciones. Portal de Datos Abiertos de la Junta de Andalucia\n",
    "* Ayudas. ????\n",
    "* Municipios. Instituto de Estadística y Cartografía de Andalucía\n",
    "* Elecciones. Instituto de Estadística y Cartografía de Andalucía\n",
    "* Entes Municipales. Ministerio de Hacienda y Administraciones Públicas / Secretaría de Estado de Administraciones Públicas. \n",
    "* Entes Autonómicos. Ministerio de Hacienda y Administraciones Públicas / Secretaría de Estado de Administraciones Públicas. (también disponible en Consejería de Hacienda y Administraciones Públicas de la Junta de Andalucía).\n",
    "* Anuario de la Caixa 2014.\n",
    "* Presupuesto 2015 de la Junta de Andalucía\n",
    "\n",
    "Se pueden descargar de:\n",
    "* Datos Abiertos / Secretaría de Estado de Administraciones Públicas. http://www.minhap.gob.es/es-ES/Datos%20Abiertos/Paginas/CatalogoRISPSecretariadeEstadodeAdministracionesPublicas.aspx\n",
    "* http://serviciostelematicos.minhap.gob.es/PubInvCCAA/secciones/FrmListadoEntes.aspx?cdcdad=AX9BV45F&tiporg2=\n",
    "* http://www.anuarieco.lacaixa.comunicacions.com/java/X?cgi=caixa.le_menuGeneral.pattern\n",
    "Referencias de partidas del presupuesto: http://www.juntadeandalucia.es/haciendayadministracionpublica/planif_presup/proy_presupuesto2014/presentacion/presentacion-5.pdf"
   ]
  },
  {
   "cell_type": "code",
   "execution_count": 124,
   "metadata": {
    "collapsed": false
   },
   "outputs": [],
   "source": [
    "#Read files\n",
    "ayudas = pd.read_json(FILE_AYUDAS)\n",
    "municipios = pd.read_csv(FILE_MUNICIPIOS, quotechar='\"', sep=';', decimal=',', thousands='.')\n",
    "elecciones = pd.read_csv(FILE_ELECCIONES, quotechar='\"', sep=';', decimal=',', thousands='.')\n",
    "entes_locales = pd.read_csv(FILE_ENTES_LOCALES, quotechar='\"', sep=',')\n",
    "entes_jjaa = pd.read_csv(FILE_ENTES_JJAA, quotechar='\"', sep=',')\n",
    "subvenciones = pd.read_csv(FILE_SUBVENCIONES, quotechar='\"', sep='|', decimal=',')\n",
    "funcional = pd.read_csv(FILE_FUNCIONAL_PRESUPUESTO, quotechar='\"', sep='|', decimal=',').fillna('')"
   ]
  },
  {
   "cell_type": "markdown",
   "metadata": {},
   "source": [
    "El importe total de las subvenciones includas en los datos abiertos es:"
   ]
  },
  {
   "cell_type": "code",
   "execution_count": 125,
   "metadata": {
    "collapsed": false
   },
   "outputs": [
    {
     "name": "stdout",
     "output_type": "stream",
     "text": [
      "1.038.724.228,81 €\n"
     ]
    }
   ],
   "source": [
    "total_subvenciones = subvenciones['importe'].sum() \n",
    "m = Money(amount = total_subvenciones, currency='EUR')\n",
    "print(m.format('es_ES'))"
   ]
  },
  {
   "cell_type": "markdown",
   "metadata": {},
   "source": [
    "# Mejora de la información\n",
    "\n",
    "(Data wranling / Data Munging)\n",
    "\n",
    "A continuación se procede a la mejora de la información de base con otras fuentes de información (de las ya cargadas),\n",
    "o de la análisis de la ya disponible."
   ]
  },
  {
   "cell_type": "code",
   "execution_count": 126,
   "metadata": {
    "collapsed": false
   },
   "outputs": [],
   "source": [
    "subvenciones['mes_concesion_timestamp'] = subvenciones['fecha_concesion'].apply(lambda x: string_to_timestamp(x))\n",
    "subvenciones['fecha_concesion'] = subvenciones['fecha_concesion'].apply(lambda x: datetime.strptime(x, '%d/%m/%y'))\n",
    "subvenciones['mes_concesion'] = subvenciones['fecha_concesion'].apply(lambda x: x.strftime('%Y/%m'))"
   ]
  },
  {
   "cell_type": "code",
   "execution_count": 127,
   "metadata": {
    "collapsed": false
   },
   "outputs": [],
   "source": [
    "subvenciones['grupo_pres'] = subvenciones['programa'].apply(lambda x: (\"%s\" % x)[0])\n",
    "subvenciones['tipo_beneficiario'] = subvenciones['id_beneficiario'].apply(obtener_tipo_cif)\n",
    "subvenciones['tipo_beneficiario_res'] = subvenciones['id_beneficiario'].apply(obtener_tipo_cif_resumen)\n",
    "subvenciones['tipo_beneficiario_cod'] = subvenciones['id_beneficiario'].apply(lambda x: (\"%s\" % x)[0])\n",
    "subvenciones['provincia'] = subvenciones['id_beneficiario'].apply(obtener_provincia_cif)\n",
    "subvenciones['grupo_pres'] = subvenciones['programa'].apply(lambda x: (\"%s\" % x)[0])\n",
    "subvenciones['provincia_cod_cif'] = subvenciones['id_beneficiario'].apply(lambda x: (\"%s\" % x)[1:3])"
   ]
  },
  {
   "cell_type": "code",
   "execution_count": 128,
   "metadata": {
    "collapsed": false
   },
   "outputs": [],
   "source": [
    "subvenciones_por_fecha = subvenciones.groupby('fecha_concesion').sum()\n",
    "subvenciones_por_mes = subvenciones.groupby('mes_concesion_timestamp').sum()\n",
    "subvenciones_por_mes_grupo = subvenciones.groupby(['mes_concesion_timestamp','grupo_pres']).sum().reset_index()\n",
    "subvenciones_por_finalidad = subvenciones.groupby('finalidad').sum().sort('importe',ascending=0).reset_index()\n",
    "subvenciones_por_finalidad_beneficiario = subvenciones.groupby(['finalidad','tipo_beneficiario']).sum().sort('importe',ascending=0).reset_index()"
   ]
  },
  {
   "cell_type": "code",
   "execution_count": 129,
   "metadata": {
    "collapsed": false
   },
   "outputs": [],
   "source": [
    "elecciones['Nombre de Comunidad'] = elecciones['Nombre de Comunidad'].apply(lambda x: x.rstrip())\n",
    "filas_andalucia = elecciones['Nombre de Comunidad'] == 'Andaluc\\xc3\\xada' #Andalucía\n"
   ]
  },
  {
   "cell_type": "markdown",
   "metadata": {},
   "source": [
    "###¿Existen subvenciones no clasificadas?\n",
    "\n",
    "El presupuesto marca el objetivo que se busca a muy grandes rasgos con las subvenciones."
   ]
  },
  {
   "cell_type": "code",
   "execution_count": 165,
   "metadata": {
    "collapsed": false
   },
   "outputs": [
    {
     "data": {
      "text/plain": [
       "0        False\n",
       "1        False\n",
       "2        False\n",
       "3        False\n",
       "4        False\n",
       "5        False\n",
       "6        False\n",
       "7        False\n",
       "8        False\n",
       "9        False\n",
       "10       False\n",
       "11       False\n",
       "12       False\n",
       "13       False\n",
       "14       False\n",
       "15       False\n",
       "16       False\n",
       "17       False\n",
       "18       False\n",
       "19       False\n",
       "20       False\n",
       "21       False\n",
       "22       False\n",
       "23       False\n",
       "24       False\n",
       "25       False\n",
       "26       False\n",
       "27       False\n",
       "28       False\n",
       "29       False\n",
       "         ...  \n",
       "71073    False\n",
       "71074    False\n",
       "71075    False\n",
       "71076    False\n",
       "71077    False\n",
       "71078    False\n",
       "71079    False\n",
       "71080    False\n",
       "71081    False\n",
       "71082    False\n",
       "71083    False\n",
       "71084    False\n",
       "71085    False\n",
       "71086    False\n",
       "71087    False\n",
       "71088    False\n",
       "71089    False\n",
       "71090    False\n",
       "71091    False\n",
       "71092    False\n",
       "71093    False\n",
       "71094    False\n",
       "71095    False\n",
       "71096    False\n",
       "71097    False\n",
       "71098    False\n",
       "71099    False\n",
       "71100    False\n",
       "71101    False\n",
       "71102    False\n",
       "Name: convocatoria, dtype: bool"
      ]
     },
     "execution_count": 165,
     "metadata": {},
     "output_type": "execute_result"
    }
   ],
   "source": [
    "#subvenciones.query(\"programa == 'NaN'\")[['base_reguladora','convocatoria']]\n",
    "subvenciones['convocatoria'].str.contains('\\s\\d\\d\\D\\s')"
   ]
  },
  {
   "cell_type": "markdown",
   "metadata": {},
   "source": [
    "# Análisis Exploratorio\n",
    "\n",
    "A continuación con la información ya revisada y ampliada se puede proceder a intentar responder a cuestiones sobre la información con que se cuenta.\n",
    "\n",
    "## ¿Cómo se distribuye el gasto a través del tiempo?\n"
   ]
  },
  {
   "cell_type": "code",
   "execution_count": 137,
   "metadata": {
    "collapsed": false
   },
   "outputs": [
    {
     "data": {
      "text/html": [
       "<iframe id=\"igraph\" scrolling=\"no\" style=\"border:none;\"seamless=\"seamless\" src=\"https://plot.ly/~jdayllon/35.embed\" height=\"525\" width=\"100%\"></iframe>"
      ],
      "text/plain": [
       "<plotly.tools.PlotlyDisplay object>"
      ]
     },
     "execution_count": 137,
     "metadata": {},
     "output_type": "execute_result"
    }
   ],
   "source": [
    "lista_mes_concesion=list(subvenciones['mes_concesion'].drop_duplicates())\n",
    "lista_mes_concesion.reverse()\n",
    "lista_mes_concesion\n",
    "\n",
    "data = Data([\n",
    "    Bar(\n",
    "        x=lista_mes_concesion,\n",
    "        y=list(subvenciones_por_mes['importe']),\n",
    "        text=lista_mes_concesion,\n",
    "        marker=Marker(\n",
    "            color='rgb(142, 124, 195)'\n",
    "        )\n",
    "    )\n",
    "])\n",
    "\n",
    "layout = Layout(\n",
    "    title='Number of graphs made this week',\n",
    "    font=Font(\n",
    "        family='Raleway, sans-serif'\n",
    "    ),\n",
    "    showlegend=False,\n",
    "    xaxis=XAxis(\n",
    "        tickangle=-45\n",
    "    ),\n",
    "    yaxis=YAxis(\n",
    "        zeroline=False,\n",
    "        gridwidth=2\n",
    "    ),\n",
    "    bargap=0.05\n",
    ")\n",
    "fig = Figure(data=data, layout=layout)\n",
    "#plot_url = py.plot(fig, filename='bar-with-hover-text')\n",
    "py.iplot(data, filename = 'evolucion-subveciones')"
   ]
  },
  {
   "cell_type": "code",
   "execution_count": 131,
   "metadata": {
    "collapsed": false
   },
   "outputs": [],
   "source": [
    "lista_meses_timestamp = subvenciones_por_mes_grupo['mes_concesion_timestamp'].unique()\n",
    "lista_grupos = subvenciones_por_mes_grupo['grupo_pres'].unique()"
   ]
  },
  {
   "cell_type": "code",
   "execution_count": 132,
   "metadata": {
    "collapsed": false
   },
   "outputs": [],
   "source": [
    "def nueva_fila_mes_grupo(mes, grupo, importe = 0,id=0):\n",
    "    new_data = { 'mes_concesion_timestamp' : [mes],\n",
    "             'grupo_pres' : [grupo],\n",
    "             'importe': [0], \n",
    "             'id': [id]}\n",
    "    return pd.DataFrame(new_data)"
   ]
  },
  {
   "cell_type": "code",
   "execution_count": 133,
   "metadata": {
    "collapsed": false
   },
   "outputs": [],
   "source": [
    "subvenciones_mes_grupo_trabajo = subvenciones_por_mes_grupo.copy(deep=True)\n",
    "contador_id = subvenciones_mes_grupo_trabajo['id'].argmax()\n",
    "\n",
    "for mes in lista_meses_timestamp:\n",
    "    for grupo in lista_grupos:\n",
    "        query_mes_grupo = \"mes_concesion_timestamp == %s & grupo_pres == '%s'\" % (mes, grupo)\n",
    "        resultados_query = subvenciones_mes_grupo_trabajo.query(query_mes_grupo)\n",
    "#        print \"%s -- %d \" % (query_mes_grupo, len(resultados_query))\n",
    "        if len(resultados_query) == 0:\n",
    "            contador_id += 1\n",
    "            subvenciones_mes_grupo_trabajo = pd.concat([subvenciones_mes_grupo_trabajo,nueva_fila_mes_grupo(mes,grupo,id=contador_id)])\n",
    "\n",
    "#print(len(lista_meses_timestamp))\n",
    "#print(subvenciones_mes_grupo_trabajo.groupby('grupo_pres').count())"
   ]
  },
  {
   "cell_type": "markdown",
   "metadata": {},
   "source": [
    "Subvenciones por área del presupuesto\n",
    "---------------------\n",
    "\n",
    "Utilizando el identificador del presupuesto podemos agrupar las ayudas por el xxx del presupuesto de la Junta de Andalucía y su distribución a lo largo del tiempo.\n",
    "\n",
    "El presupuesto de las comunidades autónomas según su función se clasifican en:\n",
    "* Área,\n",
    "* Politica,\n",
    "* Función y\n",
    "* Programa\n",
    "\n",
    "Los datos de subvenciones tienen detallado hasta la función, no existe detalle del programa."
   ]
  },
  {
   "cell_type": "code",
   "execution_count": 139,
   "metadata": {
    "collapsed": false,
    "scrolled": false
   },
   "outputs": [
    {
     "data": {
      "text/html": [
       "<iframe id=\"igraph\" scrolling=\"no\" style=\"border:none;\"seamless=\"seamless\" src=\"https://plot.ly/~jdayllon/85.embed\" height=\"525\" width=\"100%\"></iframe>"
      ],
      "text/plain": [
       "<plotly.tools.PlotlyDisplay object>"
      ]
     },
     "execution_count": 139,
     "metadata": {},
     "output_type": "execute_result"
    }
   ],
   "source": [
    "subvenciones_por_grupo = subvenciones_por_mes_grupo.groupby('grupo_pres').sum()\n",
    "areas_presupuesto = funcional.query(\"POLITICA=='' and  PROGRAMA ==''\").set_index('AREA')['DESCRIPCION'].to_dict()\n",
    "#total_subvenciones\n",
    "#print list(subvenciones_por_grupo['importe'])\n",
    "trace1 = Bar(\n",
    "    x= areas_presupuesto.values(),\n",
    "    y=list(subvenciones_por_grupo['importe']),\n",
    "    name='SF Zoo'\n",
    ")\n",
    "#trace2 = Bar(\n",
    "#    x=['giraffes', 'orangutans', 'monkeys'],\n",
    "#    y=[12, 18, 29],\n",
    "#    name='LA Zoo'\n",
    "#)\n",
    "data = Data([trace1])\n",
    "\n",
    "\n",
    "layout = Layout(\n",
    "    title='Subvenciones por área del presupuesto',\n",
    "    font=Font(\n",
    "        family='Raleway, sans-serif'\n",
    "    ),\n",
    "    showlegend=False,\n",
    "    xaxis=XAxis(\n",
    "        tickangle=-45\n",
    "    ),\n",
    "    yaxis=YAxis(\n",
    "        zeroline=False,\n",
    "        gridwidth=2\n",
    "    ),\n",
    "    bargap=0.05\n",
    ")\n",
    "\n",
    "fig = Figure(data=data, layout=layout)\n",
    "py.iplot(fig, filename='stacked-bar')\n"
   ]
  },
  {
   "cell_type": "code",
   "execution_count": 116,
   "metadata": {
    "collapsed": true
   },
   "outputs": [
    {
     "data": {
      "text/plain": [
       "['DEUDA PUBLICA',\n",
       " 'SERVICIOS DE CARACTER GENERAL',\n",
       " 'PROTECCION CIVIL Y SEGURIDAD CIUDADANA',\n",
       " 'SEGURIDAD, PROTECCION Y PROMOCION SOCIAL',\n",
       " 'PRODUCCI. DE BIENES PUBLICOS DE CARACTER SOCIAL',\n",
       " 'PRODUCCION DE BIENES PUBLICOS DE CARACTER ECON.',\n",
       " 'REGULACION ECONOMICA DE CARACTER GENERAL',\n",
       " 'REG. ECONOMICA DE LA ACTIV. Y LOS SECT. PRODUCT.',\n",
       " 'RELACIONES CON OTRAS ADMINISTRACIONES']"
      ]
     },
     "execution_count": 116,
     "metadata": {},
     "output_type": "execute_result"
    }
   ],
   "source": []
  },
  {
   "cell_type": "code",
   "execution_count": 68,
   "metadata": {
    "collapsed": false
   },
   "outputs": [],
   "source": [
    "#subvenciones_por_finalidad_beneficiario['finalidad'].drop_duplicates()"
   ]
  },
  {
   "cell_type": "code",
   "execution_count": 13,
   "metadata": {
    "collapsed": false
   },
   "outputs": [
    {
     "data": {
      "text/html": [
       "<!DOCTYPE html>\n",
       "<html lang=\"en\">\n",
       "    <head>\n",
       "        <meta charset=\"utf-8\" />\n",
       "        <link href=\"https://cdnjs.cloudflare.com/ajax/libs/nvd3/1.7.0/nv.d3.min.css\" rel=\"stylesheet\" />\n",
       "        <script src=\"https://cdnjs.cloudflare.com/ajax/libs/d3/3.5.5/d3.min.js\"></script>\n",
       "        <script src=\"https://cdnjs.cloudflare.com/ajax/libs/nvd3/1.7.0/nv.d3.min.js\"></script>\n",
       "    </head>\n",
       "    <body>\n",
       "        \n",
       "    \n",
       "\n",
       "<h2>Subvenciones por area</h2>\n",
       "\n",
       "<div id=\"subvenciones_por_area\"><svg style=\"width:850px;height:450px;\"></svg></div>\n",
       "\n",
       "\n",
       "    <script>\n",
       "\n",
       "\n",
       "            data_subvenciones_por_area=[{\"values\": [{\"y\": 0.0, \"x\": 1391122800000.0}, {\"y\": 2364606.0, \"x\": 1393542000000.0}, {\"y\": 0.0, \"x\": 1396216800000.0}, {\"y\": 0.0, \"x\": 1398808800000.0}, {\"y\": 0.0, \"x\": 1401487200000.0}, {\"y\": 0.0, \"x\": 1404079200000.0}, {\"y\": 421448.0, \"x\": 1406757600000.0}, {\"y\": 0.0, \"x\": 1409436000000.0}, {\"y\": 50000.0, \"x\": 1412028000000.0}, {\"y\": 11616.57, \"x\": 1414710000000.0}, {\"y\": 1647968.0699999998, \"x\": 1417302000000.0}, {\"y\": 18000.0, \"x\": 1419980400000.0}, {\"y\": 0.0, \"x\": 1422658800000.0}, {\"y\": 489408.0, \"x\": 1425078000000.0}, {\"y\": 0.0, \"x\": 1427752800000.0}], \"key\": \"1\", \"yAxis\": \"1\"}, {\"values\": [{\"y\": 0.0, \"x\": 1391122800000.0}, {\"y\": 95000.0, \"x\": 1393542000000.0}, {\"y\": 0.0, \"x\": 1396216800000.0}, {\"y\": 0.0, \"x\": 1398808800000.0}, {\"y\": 0.0, \"x\": 1401487200000.0}, {\"y\": 9437.5, \"x\": 1404079200000.0}, {\"y\": 6000.0, \"x\": 1406757600000.0}, {\"y\": 0.0, \"x\": 1409436000000.0}, {\"y\": 0.0, \"x\": 1412028000000.0}, {\"y\": 0.0, \"x\": 1414710000000.0}, {\"y\": 0.0, \"x\": 1417302000000.0}, {\"y\": 0.0, \"x\": 1419980400000.0}, {\"y\": 0.0, \"x\": 1422658800000.0}, {\"y\": 0.0, \"x\": 1425078000000.0}, {\"y\": 12500.0, \"x\": 1427752800000.0}], \"key\": \"2\", \"yAxis\": \"1\"}, {\"values\": [{\"y\": 11146019.829999993, \"x\": 1391122800000.0}, {\"y\": 1492566.3900000001, \"x\": 1393542000000.0}, {\"y\": 3176851.8700000006, \"x\": 1396216800000.0}, {\"y\": 5480667.4799999986, \"x\": 1398808800000.0}, {\"y\": 3291973.5699999994, \"x\": 1401487200000.0}, {\"y\": 5533100.919999999, \"x\": 1404079200000.0}, {\"y\": 8842959.9299999997, \"x\": 1406757600000.0}, {\"y\": 4159566.5899999999, \"x\": 1409436000000.0}, {\"y\": 182916599.21999991, \"x\": 1412028000000.0}, {\"y\": 94617290.699999809, \"x\": 1414710000000.0}, {\"y\": 14292492.689999996, \"x\": 1417302000000.0}, {\"y\": 50871926.7000001, \"x\": 1419980400000.0}, {\"y\": 2603657.2400000002, \"x\": 1422658800000.0}, {\"y\": 159368.06, \"x\": 1425078000000.0}, {\"y\": 7974428.5799999973, \"x\": 1427752800000.0}], \"key\": \"3\", \"yAxis\": \"1\"}, {\"values\": [{\"y\": 0.0, \"x\": 1391122800000.0}, {\"y\": 189.13999999999999, \"x\": 1393542000000.0}, {\"y\": 5167464.7599999998, \"x\": 1396216800000.0}, {\"y\": 443889.47999999998, \"x\": 1398808800000.0}, {\"y\": 5509609.790000001, \"x\": 1401487200000.0}, {\"y\": 12113859.979999993, \"x\": 1404079200000.0}, {\"y\": 40008855.559999995, \"x\": 1406757600000.0}, {\"y\": 1076443.9499999993, \"x\": 1409436000000.0}, {\"y\": 5234775.5000000158, \"x\": 1412028000000.0}, {\"y\": 24092673.310000088, \"x\": 1414710000000.0}, {\"y\": 4971658.0000000009, \"x\": 1417302000000.0}, {\"y\": 3130033.0400000061, \"x\": 1419980400000.0}, {\"y\": 0.0, \"x\": 1422658800000.0}, {\"y\": 0.0, \"x\": 1425078000000.0}, {\"y\": 376364.34000000003, \"x\": 1427752800000.0}], \"key\": \"4\", \"yAxis\": \"1\"}, {\"values\": [{\"y\": 2003.52, \"x\": 1391122800000.0}, {\"y\": 10590151.619999999, \"x\": 1393542000000.0}, {\"y\": 303613.67999999999, \"x\": 1396216800000.0}, {\"y\": 250159.23000000001, \"x\": 1398808800000.0}, {\"y\": 545004.10000000021, \"x\": 1401487200000.0}, {\"y\": 7272535.9000000013, \"x\": 1404079200000.0}, {\"y\": 1203041.6500000001, \"x\": 1406757600000.0}, {\"y\": 7903038.6200000038, \"x\": 1409436000000.0}, {\"y\": 3008416.6400000001, \"x\": 1412028000000.0}, {\"y\": 7776686.580000001, \"x\": 1414710000000.0}, {\"y\": 1000.0, \"x\": 1417302000000.0}, {\"y\": 28680965.290000003, \"x\": 1419980400000.0}, {\"y\": 2530466.27, \"x\": 1422658800000.0}, {\"y\": 4735760.4900000012, \"x\": 1425078000000.0}, {\"y\": 0.0, \"x\": 1427752800000.0}], \"key\": \"5\", \"yAxis\": \"1\"}, {\"values\": [{\"y\": 0.0, \"x\": 1391122800000.0}, {\"y\": 0.0, \"x\": 1393542000000.0}, {\"y\": 350000.0, \"x\": 1396216800000.0}, {\"y\": 0.0, \"x\": 1398808800000.0}, {\"y\": 0.0, \"x\": 1401487200000.0}, {\"y\": 0.0, \"x\": 1404079200000.0}, {\"y\": 0.0, \"x\": 1406757600000.0}, {\"y\": 0.0, \"x\": 1409436000000.0}, {\"y\": 0.0, \"x\": 1412028000000.0}, {\"y\": 0.0, \"x\": 1414710000000.0}, {\"y\": 0.0, \"x\": 1417302000000.0}, {\"y\": 0.0, \"x\": 1419980400000.0}, {\"y\": 0.0, \"x\": 1422658800000.0}, {\"y\": 0.0, \"x\": 1425078000000.0}, {\"y\": 0.0, \"x\": 1427752800000.0}], \"key\": \"6\", \"yAxis\": \"1\"}, {\"values\": [{\"y\": 13555373.80000001, \"x\": 1391122800000.0}, {\"y\": 8168072.3000000007, \"x\": 1393542000000.0}, {\"y\": 27125700.680000599, \"x\": 1396216800000.0}, {\"y\": 44505775.7000001, \"x\": 1398808800000.0}, {\"y\": 21671308.549999975, \"x\": 1401487200000.0}, {\"y\": 29922474.620000008, \"x\": 1404079200000.0}, {\"y\": 8595435.3099999875, \"x\": 1406757600000.0}, {\"y\": 16609926.389999969, \"x\": 1409436000000.0}, {\"y\": 3553301.6299999994, \"x\": 1412028000000.0}, {\"y\": 48001925.680000074, \"x\": 1414710000000.0}, {\"y\": 25692143.139999986, \"x\": 1417302000000.0}, {\"y\": 37910611.020000003, \"x\": 1419980400000.0}, {\"y\": 0.0, \"x\": 1422658800000.0}, {\"y\": 2091674.0, \"x\": 1425078000000.0}, {\"y\": 984231.25999999838, \"x\": 1427752800000.0}], \"key\": \"7\", \"yAxis\": \"1\"}, {\"values\": [{\"y\": 0.0, \"x\": 1391122800000.0}, {\"y\": 0.0, \"x\": 1393542000000.0}, {\"y\": 398284.0, \"x\": 1396216800000.0}, {\"y\": 2393311.0, \"x\": 1398808800000.0}, {\"y\": 344928.0, \"x\": 1401487200000.0}, {\"y\": 44558872.32, \"x\": 1404079200000.0}, {\"y\": 299210.0, \"x\": 1406757600000.0}, {\"y\": 269999.15000000002, \"x\": 1409436000000.0}, {\"y\": 403585.44, \"x\": 1412028000000.0}, {\"y\": 4379692.4699999988, \"x\": 1414710000000.0}, {\"y\": 218188.0, \"x\": 1417302000000.0}, {\"y\": 33154755.489999995, \"x\": 1419980400000.0}, {\"y\": 0.0, \"x\": 1422658800000.0}, {\"y\": 0.0, \"x\": 1425078000000.0}, {\"y\": 0.0, \"x\": 1427752800000.0}], \"key\": \"8\", \"yAxis\": \"1\"}, {\"values\": [{\"y\": 275057.46999999997, \"x\": 1391122800000.0}, {\"y\": 5125164.7300000014, \"x\": 1393542000000.0}, {\"y\": 5357563.2800000031, \"x\": 1396216800000.0}, {\"y\": 5163649.4600000009, \"x\": 1398808800000.0}, {\"y\": 6104405.6600000057, \"x\": 1401487200000.0}, {\"y\": 3143724.6500000008, \"x\": 1404079200000.0}, {\"y\": 3599596.4500000011, \"x\": 1406757600000.0}, {\"y\": 1986140.7400000002, \"x\": 1409436000000.0}, {\"y\": 5219507.6400000015, \"x\": 1412028000000.0}, {\"y\": 38135783.939999983, \"x\": 1414710000000.0}, {\"y\": 6545984.549999998, \"x\": 1417302000000.0}, {\"y\": 4294755.9400000069, \"x\": 1419980400000.0}, {\"y\": 0.0, \"x\": 1422658800000.0}, {\"y\": 0.0, \"x\": 1425078000000.0}, {\"y\": 0.0, \"x\": 1427752800000.0}], \"key\": \"n\", \"yAxis\": \"1\"}];\n",
       "\n",
       "    nv.addGraph(function() {\n",
       "        var chart = nv.models.stackedAreaChart().useInteractiveGuideline(true);\n",
       "\n",
       "        chart.margin({top: 30, right: 60, bottom: 20, left: 100});\n",
       "\n",
       "        var datum = data_subvenciones_por_area;\n",
       "\n",
       "\n",
       "\n",
       "\n",
       "            chart.xAxis\n",
       "                .tickFormat(function(d) { return d3.time.format('%d %b %Y')(new Date(parseInt(d))) }\n",
       ");\n",
       "            chart.yAxis\n",
       "                .tickFormat(d3.format(',.2f'));\n",
       "\n",
       "                chart.tooltipContent(function(key, y, e, graph) {\n",
       "                    var x = d3.time.format(\"%d %b %Y\")(new Date(parseInt(graph.point.x)));\n",
       "                    var y = String(graph.point.y);\n",
       "                    var y = String(graph.point.y);\n",
       "\n",
       "                    tooltip_str = '<center><b>'+key+'</b></center>' + y + ' on ' + x;\n",
       "                    return tooltip_str;\n",
       "                });\n",
       "\n",
       "      chart.showLegend(true);\n",
       "\n",
       "\n",
       "\n",
       "        \n",
       "\n",
       "\n",
       "        d3.select('#subvenciones_por_area svg')\n",
       "            .datum(datum)\n",
       "            .transition().duration(500)\n",
       "            .attr('width', 850)\n",
       "            .attr('height', 450)\n",
       "            .call(chart);\n",
       "\n",
       "\n",
       "    });\n",
       "\n",
       "\n",
       "\n",
       "    </script>\n",
       "\n",
       "    </body>\n",
       "</html>"
      ],
      "text/plain": [
       "<nvd3.stackedAreaChart.stackedAreaChart at 0x115016210>"
      ]
     },
     "execution_count": 13,
     "metadata": {},
     "output_type": "execute_result"
    }
   ],
   "source": [
    "chart4_name = \"Subvenciones por area\"\n",
    "chart4 = nvd3.stackedAreaChart(name=chart4_name,height=450,width=850,use_interactive_guideline=True, x_is_date=True)\n",
    "chart4.set_containerheader(\"\\n\\n<h2>\" + chart4_name + \"</h2>\\n\\n\")\n",
    "xdata = list(subvenciones_por_mes_grupo.mes_concesion_timestamp.drop_duplicates())\n",
    "\n",
    "for grupo in subvenciones_mes_grupo_trabajo.grupo_pres.order().drop_duplicates():\n",
    "    chart4.add_serie(name=grupo, y=listar_subvenciones_mes_grupo(subvenciones_mes_grupo_trabajo,grupo), x=xdata)\n",
    "\n",
    "chart4.margin_left = 100\n",
    "chart4"
   ]
  },
  {
   "cell_type": "markdown",
   "metadata": {
    "collapsed": false
   },
   "source": [
    "Por Identificadores\n",
    "-------------------"
   ]
  },
  {
   "cell_type": "code",
   "execution_count": 24,
   "metadata": {
    "collapsed": false
   },
   "outputs": [
    {
     "data": {
      "text/plain": [
       "0        G\n",
       "1        G\n",
       "2        Q\n",
       "3        G\n",
       "4        G\n",
       "5        G\n",
       "6        G\n",
       "7        G\n",
       "8        G\n",
       "9        G\n",
       "10       Q\n",
       "11       G\n",
       "12       G\n",
       "13       G\n",
       "14       G\n",
       "15       G\n",
       "16       Q\n",
       "17       G\n",
       "18       7\n",
       "19       P\n",
       "20       P\n",
       "21       P\n",
       "22       G\n",
       "23       P\n",
       "24       P\n",
       "25       P\n",
       "26       P\n",
       "27       P\n",
       "28       P\n",
       "29       P\n",
       "        ..\n",
       "71073    B\n",
       "71074    3\n",
       "71075    3\n",
       "71076    B\n",
       "71077    2\n",
       "71078    3\n",
       "71079    3\n",
       "71080    3\n",
       "71081    3\n",
       "71082    2\n",
       "71083    5\n",
       "71084    2\n",
       "71085    0\n",
       "71086    2\n",
       "71087    2\n",
       "71088    3\n",
       "71089    F\n",
       "71090    2\n",
       "71091    2\n",
       "71092    B\n",
       "71093    7\n",
       "71094    5\n",
       "71095    7\n",
       "71096    2\n",
       "71097    7\n",
       "71098    7\n",
       "71099    2\n",
       "71100    7\n",
       "71101    3\n",
       "71102    P\n",
       "Name: id_beneficiario, dtype: object"
      ]
     },
     "execution_count": 24,
     "metadata": {},
     "output_type": "execute_result"
    }
   ],
   "source": [
    "subvenciones['tipo_beneficiario'] = subvenciones['id_beneficiario'].apply(lambda x: (\"%s\" % x)[0])\n",
    "subvenciones['id_beneficiario'].apply(lambda x: (\"%s\" % x)[0])#.drop_duplicates()"
   ]
  },
  {
   "cell_type": "code",
   "execution_count": 25,
   "metadata": {
    "collapsed": false
   },
   "outputs": [
    {
     "data": {
      "text/plain": [
       "0                                             Asociaciones\n",
       "1                                             Asociaciones\n",
       "2        Organismos autónomos, estatales o no, y asimil...\n",
       "3                                             Asociaciones\n",
       "4                                             Asociaciones\n",
       "5                                             Asociaciones\n",
       "6                                             Asociaciones\n",
       "7                                             Asociaciones\n",
       "8                                             Asociaciones\n",
       "9                                             Asociaciones\n",
       "10       Organismos autónomos, estatales o no, y asimil...\n",
       "11                                            Asociaciones\n",
       "12                                            Asociaciones\n",
       "13                                            Asociaciones\n",
       "14                                            Asociaciones\n",
       "15                                            Asociaciones\n",
       "16       Organismos autónomos, estatales o no, y asimil...\n",
       "17                                            Asociaciones\n",
       "18                                                      NA\n",
       "19                                   Corporaciones locales\n",
       "20                                   Corporaciones locales\n",
       "21                                   Corporaciones locales\n",
       "22                                            Asociaciones\n",
       "23                                   Corporaciones locales\n",
       "24                                   Corporaciones locales\n",
       "25                                   Corporaciones locales\n",
       "26                                   Corporaciones locales\n",
       "27                                   Corporaciones locales\n",
       "28                                   Corporaciones locales\n",
       "29                                   Corporaciones locales\n",
       "                               ...                        \n",
       "71073               Sociedades de responsabilidad limitada\n",
       "71074                                                   NA\n",
       "71075                                                   NA\n",
       "71076               Sociedades de responsabilidad limitada\n",
       "71077                                                   NA\n",
       "71078                                                   NA\n",
       "71079                                                   NA\n",
       "71080                                                   NA\n",
       "71081                                                   NA\n",
       "71082                                                   NA\n",
       "71083                                                   NA\n",
       "71084                                                   NA\n",
       "71085                                                   NA\n",
       "71086                                                   NA\n",
       "71087                                                   NA\n",
       "71088                                                   NA\n",
       "71089                              Sociedades cooperativas\n",
       "71090                                                   NA\n",
       "71091                                                   NA\n",
       "71092               Sociedades de responsabilidad limitada\n",
       "71093                                                   NA\n",
       "71094                                                   NA\n",
       "71095                                                   NA\n",
       "71096                                                   NA\n",
       "71097                                                   NA\n",
       "71098                                                   NA\n",
       "71099                                                   NA\n",
       "71100                                                   NA\n",
       "71101                                                   NA\n",
       "71102                                Corporaciones locales\n",
       "Name: id_beneficiario, dtype: object"
      ]
     },
     "execution_count": 25,
     "metadata": {},
     "output_type": "execute_result"
    }
   ],
   "source": [
    "#subvenciones['id_beneficiario'].apply(lambda x: (\"%s\" % x)[1:3])#.drop_duplicates()\n",
    "subvenciones['id_beneficiario'].apply(obtener_tipo_cif)"
   ]
  },
  {
   "cell_type": "code",
   "execution_count": 26,
   "metadata": {
    "collapsed": false
   },
   "outputs": [
    {
     "data": {
      "text/plain": [
       "Series([], Name: id_beneficiario, dtype: object)"
      ]
     },
     "execution_count": 26,
     "metadata": {},
     "output_type": "execute_result"
    }
   ],
   "source": [
    "subvenciones.query(\"tipo_beneficiario_cod =='P' and provincia == 'Madrid'\")['id_beneficiario']"
   ]
  },
  {
   "cell_type": "code",
   "execution_count": 27,
   "metadata": {
    "collapsed": false
   },
   "outputs": [
    {
     "data": {
      "text/html": [
       "<div style=\"max-height:1000px;max-width:1500px;overflow:auto;\">\n",
       "<table border=\"1\" class=\"dataframe\">\n",
       "  <thead>\n",
       "    <tr style=\"text-align: right;\">\n",
       "      <th></th>\n",
       "      <th>id</th>\n",
       "      <th>base_reguladora</th>\n",
       "      <th>convocatoria</th>\n",
       "      <th>consejeria</th>\n",
       "      <th>organo_gestor</th>\n",
       "      <th>tipo_subvencion</th>\n",
       "      <th>programa</th>\n",
       "      <th>denominacion_programa</th>\n",
       "      <th>importe</th>\n",
       "      <th>finalidad</th>\n",
       "      <th>id_beneficiario</th>\n",
       "      <th>nombre_beneficiario</th>\n",
       "      <th>fecha_concesion</th>\n",
       "      <th>partida_pres</th>\n",
       "      <th>mes_concesion</th>\n",
       "      <th>grupo_pres</th>\n",
       "      <th>tipo_beneficiario</th>\n",
       "      <th>tipo_beneficiario_cod</th>\n",
       "      <th>provincia_cod_cif</th>\n",
       "    </tr>\n",
       "    <tr>\n",
       "      <th>provincia</th>\n",
       "      <th></th>\n",
       "      <th></th>\n",
       "      <th></th>\n",
       "      <th></th>\n",
       "      <th></th>\n",
       "      <th></th>\n",
       "      <th></th>\n",
       "      <th></th>\n",
       "      <th></th>\n",
       "      <th></th>\n",
       "      <th></th>\n",
       "      <th></th>\n",
       "      <th></th>\n",
       "      <th></th>\n",
       "      <th></th>\n",
       "      <th></th>\n",
       "      <th></th>\n",
       "      <th></th>\n",
       "      <th></th>\n",
       "    </tr>\n",
       "  </thead>\n",
       "  <tbody>\n",
       "    <tr>\n",
       "      <th>NA</th>\n",
       "      <td>71103</td>\n",
       "      <td>71103</td>\n",
       "      <td>71103</td>\n",
       "      <td>71103</td>\n",
       "      <td>71103</td>\n",
       "      <td>71103</td>\n",
       "      <td>64343</td>\n",
       "      <td>64343</td>\n",
       "      <td>71103</td>\n",
       "      <td>71103</td>\n",
       "      <td>71094</td>\n",
       "      <td>71103</td>\n",
       "      <td>71103</td>\n",
       "      <td>566</td>\n",
       "      <td>71103</td>\n",
       "      <td>71103</td>\n",
       "      <td>71103</td>\n",
       "      <td>71103</td>\n",
       "      <td>71103</td>\n",
       "    </tr>\n",
       "  </tbody>\n",
       "</table>\n",
       "</div>"
      ],
      "text/plain": [
       "              id  base_reguladora  convocatoria  consejeria  organo_gestor  \\\n",
       "provincia                                                                    \n",
       "NA         71103            71103         71103       71103          71103   \n",
       "\n",
       "           tipo_subvencion  programa  denominacion_programa  importe  \\\n",
       "provincia                                                              \n",
       "NA                   71103     64343                  64343    71103   \n",
       "\n",
       "           finalidad  id_beneficiario  nombre_beneficiario  fecha_concesion  \\\n",
       "provincia                                                                     \n",
       "NA             71103            71094                71103            71103   \n",
       "\n",
       "           partida_pres  mes_concesion  grupo_pres  tipo_beneficiario  \\\n",
       "provincia                                                               \n",
       "NA                  566          71103       71103              71103   \n",
       "\n",
       "           tipo_beneficiario_cod  provincia_cod_cif  \n",
       "provincia                                            \n",
       "NA                         71103              71103  "
      ]
     },
     "execution_count": 27,
     "metadata": {},
     "output_type": "execute_result"
    }
   ],
   "source": [
    "subvenciones.groupby(['provincia']).count()\n",
    "#subvenciones.query(\"provincia =='Teruel'\")['id_beneficiario']"
   ]
  },
  {
   "cell_type": "code",
   "execution_count": 28,
   "metadata": {
    "collapsed": false
   },
   "outputs": [
    {
     "data": {
      "text/plain": [
       "0   2015-03-27\n",
       "1   2015-03-27\n",
       "2   2015-03-27\n",
       "3   2015-03-27\n",
       "4   2015-03-27\n",
       "Name: fecha_concesion, dtype: datetime64[ns]"
      ]
     },
     "execution_count": 28,
     "metadata": {},
     "output_type": "execute_result"
    }
   ],
   "source": [
    "subvencione"
   ]
  },
  {
   "cell_type": "code",
   "execution_count": 151,
   "metadata": {
    "collapsed": false
   },
   "outputs": [
    {
     "data": {
      "text/plain": [
       "grupo_pres\n",
       "1    5.003047e+06\n",
       "2    1.229375e+05\n",
       "3    3.965595e+08\n",
       "4    1.021258e+08\n",
       "5    7.480284e+07\n",
       "6    3.500000e+05\n",
       "7    2.883880e+08\n",
       "8    8.642083e+07\n",
       "n    8.495133e+07\n",
       "Name: importe, dtype: float64"
      ]
     },
     "execution_count": 151,
     "metadata": {},
     "output_type": "execute_result"
    }
   ],
   "source": [
    "subvenciones.groupby('grupo_pres').sum()['importe']"
   ]
  },
  {
   "cell_type": "code",
   "execution_count": null,
   "metadata": {
    "collapsed": true
   },
   "outputs": [],
   "source": []
  }
 ],
 "metadata": {
  "kernelspec": {
   "display_name": "Python 2",
   "language": "python",
   "name": "python2"
  },
  "language_info": {
   "codemirror_mode": {
    "name": "ipython",
    "version": 2
   },
   "file_extension": ".py",
   "mimetype": "text/x-python",
   "name": "python",
   "nbconvert_exporter": "python",
   "pygments_lexer": "ipython2",
   "version": "2.7.6"
  }
 },
 "nbformat": 4,
 "nbformat_minor": 0
}
