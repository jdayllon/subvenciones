{
 "cells": [
  {
   "cell_type": "code",
   "execution_count": 9,
   "metadata": {
    "collapsed": false
   },
   "outputs": [
    {
     "data": {
      "text/html": [
       "<link media=\"all\" href=\"https://cdnjs.cloudflare.com/ajax/libs/nvd3/1.7.0/nv.d3.min.css\" type=\"text/css\"\n",
       "                        rel=\"stylesheet\"/>"
      ],
      "text/plain": [
       "<IPython.core.display.HTML object>"
      ]
     },
     "metadata": {},
     "output_type": "display_data"
    },
    {
     "data": {
      "application/javascript": [
       "$.getScript(\"https://cdnjs.cloudflare.com/ajax/libs/nvd3/1.7.0/nv.d3.min.js\")"
      ],
      "text/plain": [
       "<IPython.core.display.Javascript object>"
      ]
     },
     "metadata": {},
     "output_type": "display_data"
    },
    {
     "data": {
      "application/javascript": [
       "$.getScript(\"https://cdnjs.cloudflare.com/ajax/libs/d3/3.5.5/d3.min.js\", function() {\n",
       "                              $.getScript(\"https://cdnjs.cloudflare.com/ajax/libs/nvd3/1.7.0/nv.d3.min.js\", function() {})});"
      ],
      "text/plain": [
       "<IPython.core.display.Javascript object>"
      ]
     },
     "metadata": {},
     "output_type": "display_data"
    },
    {
     "data": {
      "text/html": [
       "<script src=\"https://cdnjs.cloudflare.com/ajax/libs/d3/3.5.5/d3.min.js\"></script>"
      ],
      "text/plain": [
       "<IPython.core.display.HTML object>"
      ]
     },
     "metadata": {},
     "output_type": "display_data"
    },
    {
     "data": {
      "text/html": [
       "<script src=\"https://cdnjs.cloudflare.com/ajax/libs/nvd3/1.7.0/nv.d3.min.js\"></script>"
      ],
      "text/plain": [
       "<IPython.core.display.HTML object>"
      ]
     },
     "metadata": {},
     "output_type": "display_data"
    }
   ],
   "source": [
    "from __future__ import division\n",
    "import csv,sys\n",
    "import numpy as np\n",
    "import pandas as pd\n",
    "import matplotlib.pyplot as plt\n",
    "from datetime import datetime, timedelta\n",
    "import time, locale\n",
    "from IPython import display as d\n",
    "import nvd3\n",
    "### Librerias Propias\n",
    "from load_data import obtener_provincia_cif\n",
    "from load_data import obtener_tipo_cif\n",
    "\n",
    "#from nvd3.discreteBarChart import DiscreteBarChart\n",
    "%load_ext autoreload\n",
    "%autoreload 2\n",
    "\n",
    "reload(sys)  # Reload does the trick!\n",
    "sys.setdefaultencoding('UTF8')\n",
    "\n",
    "nvd3.ipynb.initialize_javascript(use_remote=True)\n",
    "\n",
    "locale.setlocale(locale.LC_ALL, 'es_ES')\n",
    "locale.setlocale(locale.LC_ALL, 'C')\n",
    "locale.format(\"%10.2f\", 1234.567, grouping=True) \n",
    "pd.options.display.float_format = '{:,.2f}'.format\n",
    "\n",
    "# Static files\n",
    "FILE_SUBVENCIONES = 'data/datos_subvenciones_2.csv'\n",
    "FILE_AYUDAS = 'data/ayudas.json'\n",
    "FILE_ELECCIONES = 'data/04_201105_1.csv'\n",
    "FILE_MUNICIPIOS = 'data/smex99.csv'\n",
    "FILE_ENTES_LOCALES = 'data/entes_locales.csv'\n",
    "FILE_ENTES_JJAA = 'data/entes_jjaa.csv'\n",
    "# Referencias de partidas del presupuesto: http://www.juntadeandalucia.es/haciendayadministracionpublica/planif_presup/proy_presupuesto2014/presentacion/presentacion-5.pdf\n",
    "\n",
    "\n",
    "def totimestamp(dt, epoch=datetime(1970,1,1)):\n",
    "    td = dt - epoch\n",
    "    ttime = (td.microseconds + (td.seconds + td.days * 86400) * 10**6) / 10**6 \n",
    "    return ttime * 1000\n",
    "\n",
    "def filtra_importes_grupo(row, grupo):\n",
    "    if row['grupo_pres'] == grupo:\n",
    "        return row['importe']\n",
    "    else:\n",
    "        return 0"
   ]
  },
  {
   "cell_type": "markdown",
   "metadata": {},
   "source": [
    "Fuentes de Información\n",
    "----------------------\n",
    "\n",
    "El siguiente análisis está basado en las siguientes fuentes de datos:\n",
    "* Subvenciones. Portal de Datos Abiertos de la Junta de Andalucia\n",
    "* Ayudas. ????\n",
    "* Municipios. Instituto de Estadística y Cartografía de Andalucía\n",
    "* Elecciones. Instituto de Estadística y Cartografía de Andalucía\n",
    "* Entes Municipales. Ministerio de Hacienda y Administraciones Públicas / Secretaría de Estado de Administraciones Públicas. \n",
    "* Entes Autonómicos. Ministerio de Hacienda y Administraciones Públicas / Secretaría de Estado de Administraciones Públicas. (también disponible en Consejería de Hacienda y Administraciones Públicas de la Junta de Andalucía).\n",
    "\n",
    "Se pueden descargar de:\n",
    "* Datos Abiertos / Secretaría de Estado de Administraciones Públicas. http://www.minhap.gob.es/es-ES/Datos%20Abiertos/Paginas/CatalogoRISPSecretariadeEstadodeAdministracionesPublicas.aspx\n",
    "* http://serviciostelematicos.minhap.gob.es/PubInvCCAA/secciones/FrmListadoEntes.aspx?cdcdad=AX9BV45F&tiporg2="
   ]
  },
  {
   "cell_type": "code",
   "execution_count": 10,
   "metadata": {
    "collapsed": false
   },
   "outputs": [],
   "source": [
    "#Read files\n",
    "ayudas = pd.read_json(FILE_AYUDAS)\n",
    "municipios = pd.read_csv(FILE_MUNICIPIOS, quotechar='\"', sep=';', decimal=',', thousands='.')\n",
    "elecciones = pd.read_csv(FILE_ELECCIONES, quotechar='\"', sep=';', decimal=',', thousands='.')\n",
    "entes_locales = pd.read_csv(FILE_ENTES_LOCALES, quotechar='\"', sep=',')\n",
    "entes_jjaa = pd.read_csv(FILE_ENTES_JJAA, quotechar='\"', sep=',')\n",
    "subvenciones = pd.read_csv(FILE_SUBVENCIONES, quotechar='\"', sep='|', decimal=',')"
   ]
  },
  {
   "cell_type": "markdown",
   "metadata": {},
   "source": [
    "El importe total de las subvenciones includas en los datos abiertos es:"
   ]
  },
  {
   "cell_type": "code",
   "execution_count": 11,
   "metadata": {
    "collapsed": false
   },
   "outputs": [
    {
     "data": {
      "text/plain": [
       "1038724228.8100046"
      ]
     },
     "execution_count": 11,
     "metadata": {},
     "output_type": "execute_result"
    }
   ],
   "source": [
    "subvenciones['importe'].sum()"
   ]
  },
  {
   "cell_type": "markdown",
   "metadata": {},
   "source": [
    "Enriquecimiento\n",
    "---------------\n",
    "\n",
    "A continuación se procede a la mejora de la información de base con otras fuentes de información (de las ya cargadas),\n",
    "o de la análisis de la ya disponible."
   ]
  },
  {
   "cell_type": "code",
   "execution_count": 21,
   "metadata": {
    "collapsed": false
   },
   "outputs": [
    {
     "ename": "TypeError",
     "evalue": "must be string, not Timestamp",
     "output_type": "error",
     "traceback": [
      "\u001b[0;31m---------------------------------------------------------------------------\u001b[0m",
      "\u001b[0;31mTypeError\u001b[0m                                 Traceback (most recent call last)",
      "\u001b[0;32m<ipython-input-21-8ee24a9c6fae>\u001b[0m in \u001b[0;36m<module>\u001b[0;34m()\u001b[0m\n\u001b[1;32m      1\u001b[0m \u001b[0;31m#subvenciones['mes_concesion'] = subvenciones['fecha_concesion'].apply(lambda x: datetime.fromtimestamp(x).strftime('%Y%m'))\u001b[0m\u001b[0;34m\u001b[0m\u001b[0;34m\u001b[0m\u001b[0m\n\u001b[0;32m----> 2\u001b[0;31m \u001b[0msubvenciones\u001b[0m\u001b[0;34m[\u001b[0m\u001b[0;34m'fecha_concesion'\u001b[0m\u001b[0;34m]\u001b[0m \u001b[0;34m=\u001b[0m \u001b[0msubvenciones\u001b[0m\u001b[0;34m[\u001b[0m\u001b[0;34m'fecha_concesion'\u001b[0m\u001b[0;34m]\u001b[0m\u001b[0;34m.\u001b[0m\u001b[0mapply\u001b[0m\u001b[0;34m(\u001b[0m\u001b[0;32mlambda\u001b[0m \u001b[0mx\u001b[0m\u001b[0;34m:\u001b[0m \u001b[0mdatetime\u001b[0m\u001b[0;34m.\u001b[0m\u001b[0mstrptime\u001b[0m\u001b[0;34m(\u001b[0m\u001b[0mx\u001b[0m\u001b[0;34m,\u001b[0m \u001b[0;34m'%d/%m/%y'\u001b[0m\u001b[0;34m)\u001b[0m\u001b[0;34m)\u001b[0m\u001b[0;34m\u001b[0m\u001b[0m\n\u001b[0m\u001b[1;32m      3\u001b[0m \u001b[0msubvenciones\u001b[0m\u001b[0;34m[\u001b[0m\u001b[0;34m'mes_concesion'\u001b[0m\u001b[0;34m]\u001b[0m \u001b[0;34m=\u001b[0m \u001b[0msubvenciones\u001b[0m\u001b[0;34m[\u001b[0m\u001b[0;34m'fecha_concesion'\u001b[0m\u001b[0;34m]\u001b[0m\u001b[0;34m.\u001b[0m\u001b[0mapply\u001b[0m\u001b[0;34m(\u001b[0m\u001b[0;32mlambda\u001b[0m \u001b[0mx\u001b[0m\u001b[0;34m:\u001b[0m \u001b[0mx\u001b[0m\u001b[0;34m.\u001b[0m\u001b[0mstrftime\u001b[0m\u001b[0;34m(\u001b[0m\u001b[0;34m'%Y%m'\u001b[0m\u001b[0;34m)\u001b[0m\u001b[0;34m)\u001b[0m\u001b[0;34m\u001b[0m\u001b[0m\n\u001b[1;32m      4\u001b[0m \u001b[0msubvenciones\u001b[0m\u001b[0;34m[\u001b[0m\u001b[0;34m'fecha_concesion_tmp'\u001b[0m\u001b[0;34m]\u001b[0m \u001b[0;34m=\u001b[0m \u001b[0msubvenciones\u001b[0m\u001b[0;34m[\u001b[0m\u001b[0;34m'fecha_concesion'\u001b[0m\u001b[0;34m]\u001b[0m\u001b[0;34m.\u001b[0m\u001b[0mapply\u001b[0m\u001b[0;34m(\u001b[0m\u001b[0;32mlambda\u001b[0m \u001b[0mx\u001b[0m\u001b[0;34m:\u001b[0m \u001b[0mdatetime\u001b[0m\u001b[0;34m.\u001b[0m\u001b[0mfromtimestamp\u001b[0m\u001b[0;34m(\u001b[0m\u001b[0mx\u001b[0m\u001b[0;34m)\u001b[0m\u001b[0;34m.\u001b[0m\u001b[0mstrftime\u001b[0m\u001b[0;34m(\u001b[0m\u001b[0;34m'%Y-%m-%d'\u001b[0m\u001b[0;34m)\u001b[0m\u001b[0;34m)\u001b[0m\u001b[0;34m\u001b[0m\u001b[0m\n\u001b[1;32m      5\u001b[0m \u001b[0msubvenciones\u001b[0m\u001b[0;34m[\u001b[0m\u001b[0;34m'mes_concesion_timestamp'\u001b[0m\u001b[0;34m]\u001b[0m \u001b[0;34m=\u001b[0m \u001b[0msubvenciones\u001b[0m\u001b[0;34m[\u001b[0m\u001b[0;34m'fecha_concesion'\u001b[0m\u001b[0;34m]\u001b[0m\u001b[0;34m.\u001b[0m\u001b[0mapply\u001b[0m\u001b[0;34m(\u001b[0m\u001b[0;32mlambda\u001b[0m \u001b[0mx\u001b[0m\u001b[0;34m:\u001b[0m \u001b[0mtotimestamp\u001b[0m\u001b[0;34m(\u001b[0m\u001b[0mdatetime\u001b[0m\u001b[0;34m(\u001b[0m\u001b[0mdatetime\u001b[0m\u001b[0;34m.\u001b[0m\u001b[0mfromtimestamp\u001b[0m\u001b[0;34m(\u001b[0m\u001b[0mx\u001b[0m\u001b[0;34m)\u001b[0m\u001b[0;34m.\u001b[0m\u001b[0myear\u001b[0m\u001b[0;34m,\u001b[0m \u001b[0mdatetime\u001b[0m\u001b[0;34m.\u001b[0m\u001b[0mfromtimestamp\u001b[0m\u001b[0;34m(\u001b[0m\u001b[0mx\u001b[0m\u001b[0;34m)\u001b[0m\u001b[0;34m.\u001b[0m\u001b[0mmonth\u001b[0m\u001b[0;34m,\u001b[0m\u001b[0;36m1\u001b[0m\u001b[0;34m,\u001b[0m\u001b[0;36m0\u001b[0m\u001b[0;34m,\u001b[0m\u001b[0;36m0\u001b[0m\u001b[0;34m)\u001b[0m\u001b[0;34m)\u001b[0m\u001b[0;34m)\u001b[0m\u001b[0;34m\u001b[0m\u001b[0m\n",
      "\u001b[0;32m/Library/Python/2.7/site-packages/pandas/core/series.pyc\u001b[0m in \u001b[0;36mapply\u001b[0;34m(self, func, convert_dtype, args, **kwds)\u001b[0m\n\u001b[1;32m   2047\u001b[0m             \u001b[0mvalues\u001b[0m \u001b[0;34m=\u001b[0m \u001b[0mlib\u001b[0m\u001b[0;34m.\u001b[0m\u001b[0mmap_infer\u001b[0m\u001b[0;34m(\u001b[0m\u001b[0mvalues\u001b[0m\u001b[0;34m,\u001b[0m \u001b[0mlib\u001b[0m\u001b[0;34m.\u001b[0m\u001b[0mTimestamp\u001b[0m\u001b[0;34m)\u001b[0m\u001b[0;34m\u001b[0m\u001b[0m\n\u001b[1;32m   2048\u001b[0m \u001b[0;34m\u001b[0m\u001b[0m\n\u001b[0;32m-> 2049\u001b[0;31m         \u001b[0mmapped\u001b[0m \u001b[0;34m=\u001b[0m \u001b[0mlib\u001b[0m\u001b[0;34m.\u001b[0m\u001b[0mmap_infer\u001b[0m\u001b[0;34m(\u001b[0m\u001b[0mvalues\u001b[0m\u001b[0;34m,\u001b[0m \u001b[0mf\u001b[0m\u001b[0;34m,\u001b[0m \u001b[0mconvert\u001b[0m\u001b[0;34m=\u001b[0m\u001b[0mconvert_dtype\u001b[0m\u001b[0;34m)\u001b[0m\u001b[0;34m\u001b[0m\u001b[0m\n\u001b[0m\u001b[1;32m   2050\u001b[0m         \u001b[0;32mif\u001b[0m \u001b[0mlen\u001b[0m\u001b[0;34m(\u001b[0m\u001b[0mmapped\u001b[0m\u001b[0;34m)\u001b[0m \u001b[0;32mand\u001b[0m \u001b[0misinstance\u001b[0m\u001b[0;34m(\u001b[0m\u001b[0mmapped\u001b[0m\u001b[0;34m[\u001b[0m\u001b[0;36m0\u001b[0m\u001b[0;34m]\u001b[0m\u001b[0;34m,\u001b[0m \u001b[0mSeries\u001b[0m\u001b[0;34m)\u001b[0m\u001b[0;34m:\u001b[0m\u001b[0;34m\u001b[0m\u001b[0m\n\u001b[1;32m   2051\u001b[0m             \u001b[0;32mfrom\u001b[0m \u001b[0mpandas\u001b[0m\u001b[0;34m.\u001b[0m\u001b[0mcore\u001b[0m\u001b[0;34m.\u001b[0m\u001b[0mframe\u001b[0m \u001b[0;32mimport\u001b[0m \u001b[0mDataFrame\u001b[0m\u001b[0;34m\u001b[0m\u001b[0m\n",
      "\u001b[0;32mpandas/src/inference.pyx\u001b[0m in \u001b[0;36mpandas.lib.map_infer (pandas/lib.c:56990)\u001b[0;34m()\u001b[0m\n",
      "\u001b[0;32m<ipython-input-21-8ee24a9c6fae>\u001b[0m in \u001b[0;36m<lambda>\u001b[0;34m(x)\u001b[0m\n\u001b[1;32m      1\u001b[0m \u001b[0;31m#subvenciones['mes_concesion'] = subvenciones['fecha_concesion'].apply(lambda x: datetime.fromtimestamp(x).strftime('%Y%m'))\u001b[0m\u001b[0;34m\u001b[0m\u001b[0;34m\u001b[0m\u001b[0m\n\u001b[0;32m----> 2\u001b[0;31m \u001b[0msubvenciones\u001b[0m\u001b[0;34m[\u001b[0m\u001b[0;34m'fecha_concesion'\u001b[0m\u001b[0;34m]\u001b[0m \u001b[0;34m=\u001b[0m \u001b[0msubvenciones\u001b[0m\u001b[0;34m[\u001b[0m\u001b[0;34m'fecha_concesion'\u001b[0m\u001b[0;34m]\u001b[0m\u001b[0;34m.\u001b[0m\u001b[0mapply\u001b[0m\u001b[0;34m(\u001b[0m\u001b[0;32mlambda\u001b[0m \u001b[0mx\u001b[0m\u001b[0;34m:\u001b[0m \u001b[0mdatetime\u001b[0m\u001b[0;34m.\u001b[0m\u001b[0mstrptime\u001b[0m\u001b[0;34m(\u001b[0m\u001b[0mx\u001b[0m\u001b[0;34m,\u001b[0m \u001b[0;34m'%d/%m/%y'\u001b[0m\u001b[0;34m)\u001b[0m\u001b[0;34m)\u001b[0m\u001b[0;34m\u001b[0m\u001b[0m\n\u001b[0m\u001b[1;32m      3\u001b[0m \u001b[0msubvenciones\u001b[0m\u001b[0;34m[\u001b[0m\u001b[0;34m'mes_concesion'\u001b[0m\u001b[0;34m]\u001b[0m \u001b[0;34m=\u001b[0m \u001b[0msubvenciones\u001b[0m\u001b[0;34m[\u001b[0m\u001b[0;34m'fecha_concesion'\u001b[0m\u001b[0;34m]\u001b[0m\u001b[0;34m.\u001b[0m\u001b[0mapply\u001b[0m\u001b[0;34m(\u001b[0m\u001b[0;32mlambda\u001b[0m \u001b[0mx\u001b[0m\u001b[0;34m:\u001b[0m \u001b[0mx\u001b[0m\u001b[0;34m.\u001b[0m\u001b[0mstrftime\u001b[0m\u001b[0;34m(\u001b[0m\u001b[0;34m'%Y%m'\u001b[0m\u001b[0;34m)\u001b[0m\u001b[0;34m)\u001b[0m\u001b[0;34m\u001b[0m\u001b[0m\n\u001b[1;32m      4\u001b[0m \u001b[0msubvenciones\u001b[0m\u001b[0;34m[\u001b[0m\u001b[0;34m'fecha_concesion_tmp'\u001b[0m\u001b[0;34m]\u001b[0m \u001b[0;34m=\u001b[0m \u001b[0msubvenciones\u001b[0m\u001b[0;34m[\u001b[0m\u001b[0;34m'fecha_concesion'\u001b[0m\u001b[0;34m]\u001b[0m\u001b[0;34m.\u001b[0m\u001b[0mapply\u001b[0m\u001b[0;34m(\u001b[0m\u001b[0;32mlambda\u001b[0m \u001b[0mx\u001b[0m\u001b[0;34m:\u001b[0m \u001b[0mdatetime\u001b[0m\u001b[0;34m.\u001b[0m\u001b[0mfromtimestamp\u001b[0m\u001b[0;34m(\u001b[0m\u001b[0mx\u001b[0m\u001b[0;34m)\u001b[0m\u001b[0;34m.\u001b[0m\u001b[0mstrftime\u001b[0m\u001b[0;34m(\u001b[0m\u001b[0;34m'%Y-%m-%d'\u001b[0m\u001b[0;34m)\u001b[0m\u001b[0;34m)\u001b[0m\u001b[0;34m\u001b[0m\u001b[0m\n\u001b[1;32m      5\u001b[0m \u001b[0msubvenciones\u001b[0m\u001b[0;34m[\u001b[0m\u001b[0;34m'mes_concesion_timestamp'\u001b[0m\u001b[0;34m]\u001b[0m \u001b[0;34m=\u001b[0m \u001b[0msubvenciones\u001b[0m\u001b[0;34m[\u001b[0m\u001b[0;34m'fecha_concesion'\u001b[0m\u001b[0;34m]\u001b[0m\u001b[0;34m.\u001b[0m\u001b[0mapply\u001b[0m\u001b[0;34m(\u001b[0m\u001b[0;32mlambda\u001b[0m \u001b[0mx\u001b[0m\u001b[0;34m:\u001b[0m \u001b[0mtotimestamp\u001b[0m\u001b[0;34m(\u001b[0m\u001b[0mdatetime\u001b[0m\u001b[0;34m(\u001b[0m\u001b[0mdatetime\u001b[0m\u001b[0;34m.\u001b[0m\u001b[0mfromtimestamp\u001b[0m\u001b[0;34m(\u001b[0m\u001b[0mx\u001b[0m\u001b[0;34m)\u001b[0m\u001b[0;34m.\u001b[0m\u001b[0myear\u001b[0m\u001b[0;34m,\u001b[0m \u001b[0mdatetime\u001b[0m\u001b[0;34m.\u001b[0m\u001b[0mfromtimestamp\u001b[0m\u001b[0;34m(\u001b[0m\u001b[0mx\u001b[0m\u001b[0;34m)\u001b[0m\u001b[0;34m.\u001b[0m\u001b[0mmonth\u001b[0m\u001b[0;34m,\u001b[0m\u001b[0;36m1\u001b[0m\u001b[0;34m,\u001b[0m\u001b[0;36m0\u001b[0m\u001b[0;34m,\u001b[0m\u001b[0;36m0\u001b[0m\u001b[0;34m)\u001b[0m\u001b[0;34m)\u001b[0m\u001b[0;34m)\u001b[0m\u001b[0;34m\u001b[0m\u001b[0m\n",
      "\u001b[0;31mTypeError\u001b[0m: must be string, not Timestamp"
     ]
    }
   ],
   "source": [
    "#subvenciones['mes_concesion'] = subvenciones['fecha_concesion'].apply(lambda x: datetime.fromtimestamp(x).strftime('%Y%m'))\n",
    "subvenciones['fecha_concesion'] = subvenciones['fecha_concesion'].apply(lambda x: datetime.strptime(x, '%d/%m/%y'))\n",
    "subvenciones['mes_concesion'] = subvenciones['fecha_concesion'].apply(lambda x: x.strftime('%Y%m'))\n",
    "subvenciones['fecha_concesion_tmp'] = subvenciones['fecha_concesion'].apply(lambda x: datetime.fromtimestamp(x).strftime('%Y-%m-%d'))\n",
    "subvenciones['mes_concesion_timestamp'] = subvenciones['fecha_concesion'].apply(lambda x: totimestamp(datetime(datetime.fromtimestamp(x).year, datetime.fromtimestamp(x).month,1,0,0)))\n",
    "subvenciones['grupo_pres'] = subvenciones['programa'].apply(lambda x: (\"%s\" % x)[0])\n",
    "subvenciones['tipo_beneficiario'] = subvenciones['id_beneficiario'].apply(obtener_tipo_cif)\n",
    "subvenciones['tipo_beneficiario_cod'] = subvenciones['id_beneficiario'].apply(lambda x: (\"%s\" % x)[0])\n",
    "subvenciones['provincia'] = subvenciones['id_beneficiario'].apply(obtener_provincia_cif)\n",
    "subvenciones['provincia_cod_cif'] = subvenciones['id_beneficiario'].apply(lambda x: (\"%s\" % x)[1:3])"
   ]
  },
  {
   "cell_type": "code",
   "execution_count": 3,
   "metadata": {
    "collapsed": false
   },
   "outputs": [
    {
     "ename": "NameError",
     "evalue": "name 'subvenciones' is not defined",
     "output_type": "error",
     "traceback": [
      "\u001b[0;31m---------------------------------------------------------------------------\u001b[0m",
      "\u001b[0;31mNameError\u001b[0m                                 Traceback (most recent call last)",
      "\u001b[0;32m<ipython-input-3-30a84bc64899>\u001b[0m in \u001b[0;36m<module>\u001b[0;34m()\u001b[0m\n\u001b[0;32m----> 1\u001b[0;31m \u001b[0msubvenciones_por_fecha\u001b[0m \u001b[0;34m=\u001b[0m \u001b[0msubvenciones\u001b[0m\u001b[0;34m.\u001b[0m\u001b[0mgroupby\u001b[0m\u001b[0;34m(\u001b[0m\u001b[0;34m'fecha_concesion'\u001b[0m\u001b[0;34m)\u001b[0m\u001b[0;34m.\u001b[0m\u001b[0msum\u001b[0m\u001b[0;34m(\u001b[0m\u001b[0;34m)\u001b[0m\u001b[0;34m\u001b[0m\u001b[0m\n\u001b[0m\u001b[1;32m      2\u001b[0m \u001b[0msubvenciones_por_mes\u001b[0m \u001b[0;34m=\u001b[0m \u001b[0msubvenciones\u001b[0m\u001b[0;34m.\u001b[0m\u001b[0mgroupby\u001b[0m\u001b[0;34m(\u001b[0m\u001b[0;34m'mes_concesion_timestamp'\u001b[0m\u001b[0;34m)\u001b[0m\u001b[0;34m.\u001b[0m\u001b[0msum\u001b[0m\u001b[0;34m(\u001b[0m\u001b[0;34m)\u001b[0m\u001b[0;34m\u001b[0m\u001b[0m\n\u001b[1;32m      3\u001b[0m \u001b[0msubvenciones_por_mes_grupo\u001b[0m \u001b[0;34m=\u001b[0m \u001b[0msubvenciones\u001b[0m\u001b[0;34m.\u001b[0m\u001b[0mgroupby\u001b[0m\u001b[0;34m(\u001b[0m\u001b[0;34m[\u001b[0m\u001b[0;34m'mes_concesion_timestamp'\u001b[0m\u001b[0;34m,\u001b[0m\u001b[0;34m'grupo_pres'\u001b[0m\u001b[0;34m]\u001b[0m\u001b[0;34m)\u001b[0m\u001b[0;34m.\u001b[0m\u001b[0msum\u001b[0m\u001b[0;34m(\u001b[0m\u001b[0;34m)\u001b[0m\u001b[0;34m.\u001b[0m\u001b[0mreset_index\u001b[0m\u001b[0;34m(\u001b[0m\u001b[0;34m)\u001b[0m\u001b[0;34m\u001b[0m\u001b[0m\n",
      "\u001b[0;31mNameError\u001b[0m: name 'subvenciones' is not defined"
     ]
    }
   ],
   "source": [
    "subvenciones_por_fecha = subvenciones.groupby('fecha_concesion').sum()\n",
    "subvenciones_por_mes = subvenciones.groupby('mes_concesion_timestamp').sum()\n",
    "subvenciones_por_mes_grupo = subvenciones.groupby(['mes_concesion_timestamp','grupo_pres']).sum().reset_index()"
   ]
  },
  {
   "cell_type": "code",
   "execution_count": 4,
   "metadata": {
    "collapsed": false
   },
   "outputs": [
    {
     "ename": "NameError",
     "evalue": "name 'DiscreteBarChart' is not defined",
     "output_type": "error",
     "traceback": [
      "\u001b[0;31m---------------------------------------------------------------------------\u001b[0m",
      "\u001b[0;31mNameError\u001b[0m                                 Traceback (most recent call last)",
      "\u001b[0;32m<ipython-input-4-0c5eae938466>\u001b[0m in \u001b[0;36m<module>\u001b[0;34m()\u001b[0m\n\u001b[1;32m      1\u001b[0m \u001b[0mtype\u001b[0m \u001b[0;34m=\u001b[0m \u001b[0;34m'DiscreteBarChart'\u001b[0m \u001b[0;31m#'stackedAreaChart'\u001b[0m\u001b[0;34m\u001b[0m\u001b[0m\n\u001b[0;32m----> 2\u001b[0;31m \u001b[0mchart2\u001b[0m \u001b[0;34m=\u001b[0m \u001b[0mDiscreteBarChart\u001b[0m\u001b[0;34m(\u001b[0m\u001b[0mname\u001b[0m\u001b[0;34m=\u001b[0m\u001b[0mtype\u001b[0m\u001b[0;34m,\u001b[0m\u001b[0mheight\u001b[0m\u001b[0;34m=\u001b[0m\u001b[0;36m450\u001b[0m\u001b[0;34m,\u001b[0m\u001b[0mwidth\u001b[0m\u001b[0;34m=\u001b[0m\u001b[0;36m850\u001b[0m\u001b[0;34m,\u001b[0m\u001b[0muse_interactive_guideline\u001b[0m\u001b[0;34m=\u001b[0m\u001b[0mTrue\u001b[0m\u001b[0;34m,\u001b[0m \u001b[0mx_is_date\u001b[0m\u001b[0;34m=\u001b[0m\u001b[0mTrue\u001b[0m\u001b[0;34m)\u001b[0m\u001b[0;34m\u001b[0m\u001b[0m\n\u001b[0m\u001b[1;32m      3\u001b[0m \u001b[0;31m#nb_element = 50\u001b[0m\u001b[0;34m\u001b[0m\u001b[0;34m\u001b[0m\u001b[0m\n\u001b[1;32m      4\u001b[0m \u001b[0;31m#xdata = range(len(list(subvenciones_por_mes.index)))\u001b[0m\u001b[0;34m\u001b[0m\u001b[0;34m\u001b[0m\u001b[0m\n\u001b[1;32m      5\u001b[0m \u001b[0mxdata\u001b[0m \u001b[0;34m=\u001b[0m \u001b[0mlist\u001b[0m\u001b[0;34m(\u001b[0m\u001b[0msubvenciones_por_mes\u001b[0m\u001b[0;34m.\u001b[0m\u001b[0mindex\u001b[0m\u001b[0;34m)\u001b[0m\u001b[0;34m\u001b[0m\u001b[0m\n",
      "\u001b[0;31mNameError\u001b[0m: name 'DiscreteBarChart' is not defined"
     ]
    }
   ],
   "source": [
    "type = 'DiscreteBarChart' #'stackedAreaChart'\n",
    "chart2 = DiscreteBarChart(name=type,height=450,width=850,use_interactive_guideline=True, x_is_date=True)\n",
    "#nb_element = 50\n",
    "#xdata = range(len(list(subvenciones_por_mes.index)))\n",
    "xdata = list(subvenciones_por_mes.index)\n",
    "ydata = list(subvenciones_por_mes['importe'])\n",
    "chart2.add_serie(name=\"Ejecución Subvenciones\", y=ydata, x=xdata)\n",
    "chart2.margin_left = 100\n",
    "chart2"
   ]
  },
  {
   "cell_type": "code",
   "execution_count": null,
   "metadata": {
    "collapsed": false
   },
   "outputs": [],
   "source": [
    "elecciones['Nombre de Comunidad'] = elecciones['Nombre de Comunidad'].apply(lambda x: x.rstrip())\n",
    "filas_andalucia = elecciones['Nombre de Comunidad'] == 'Andaluc\\xc3\\xada' #Andalucía\n",
    "#cols_elecciones_significativas = (elecciones[rows_andalucia].sum() > 1000)\n",
    "#resumen_elecciones_andalucia = elecciones[filas_andalucia][elecciones.columns[cols_elecciones_significativas]]"
   ]
  },
  {
   "cell_type": "code",
   "execution_count": null,
   "metadata": {
    "collapsed": false
   },
   "outputs": [],
   "source": [
    "subvenciones_por_finalidad = subvenciones.groupby('finalidad').sum().sort('importe',ascending=0).reset_index()"
   ]
  },
  {
   "cell_type": "code",
   "execution_count": null,
   "metadata": {
    "collapsed": false
   },
   "outputs": [],
   "source": [
    "lista_meses_timestamp = subvenciones_por_mes_grupo['mes_concesion_timestamp'].unique()\n",
    "lista_grupos = subvenciones_por_mes_grupo['grupo_pres'].unique()"
   ]
  },
  {
   "cell_type": "code",
   "execution_count": null,
   "metadata": {
    "collapsed": false
   },
   "outputs": [],
   "source": [
    "def nueva_fila_mes_grupo(mes, grupo, importe = 0,id=0):\n",
    "    new_data = { 'mes_concesion_timestamp' : [mes],\n",
    "             'grupo_pres' : [grupo],\n",
    "             'importe': [0], \n",
    "             'fecha_concesion' : [0],\n",
    "             'id': [id]}\n",
    "    return pd.DataFrame(new_data)\n",
    "\n",
    "subvenciones_mes_grupo_trabajo = subvenciones_por_mes_grupo.copy(deep=True)\n",
    "contador_id = subvenciones_mes_grupo_trabajo['id'].argmax()\n",
    "\n",
    "for mes in lista_meses_timestamp:\n",
    "    for grupo in lista_grupos:\n",
    "        query_mes_grupo = \"mes_concesion_timestamp == %d & grupo_pres == '%s'\" % (mes, grupo)\n",
    "        resultados_query = subvenciones_mes_grupo_trabajo.query(query_mes_grupo)\n",
    "        if len(resultados_query) == 0:\n",
    "            contador_id += 1\n",
    "            subvenciones_mes_grupo_trabajo = pd.concat([subvenciones_mes_grupo_trabajo,nueva_fila_mes_grupo(mes,grupo,id=contador_id)])\n",
    "\n",
    "            \n",
    "#subvenciones_mes_grupo_trabajo"
   ]
  },
  {
   "cell_type": "markdown",
   "metadata": {},
   "source": [
    "Subvenciones por área del presupuesto\n",
    "---------------------\n",
    "\n",
    "Utilizando el identificador del presupuesto podemos agrupar las ayudas por el xxx del presupuesto de la Junta de Andalucía y su distribución a lo largo del tiempo."
   ]
  },
  {
   "cell_type": "code",
   "execution_count": null,
   "metadata": {
    "collapsed": false
   },
   "outputs": [],
   "source": [
    "subvenciones_por_grupo = subvenciones_por_mes_grupo.groupby('grupo_pres').sum()\n",
    "\n",
    "type = 'pieChart'\n",
    "chart1 = nvd3.pieChart(name=type, color_category='category20c', height=450, width=450)\n",
    "chart1.set_containerheader(\"\\n\\n<h2>\" + type + \"</h2>\\n\\n\")\n",
    "\n",
    "#Create the keys\n",
    "xdata = list(subvenciones_por_grupo.index)\n",
    "ydata = list(subvenciones_por_grupo.importe)\n",
    "\n",
    "#Add the serie\n",
    "#extra_serie = {\"tooltip\": {\"y_start\": \"\", \"y_end\": \" cal\"}}\n",
    "chart1.add_serie(y=ydata, x=xdata, extra=extra_serie)\n",
    "#chart1.show_labels = True\n",
    "#chart1.donut = True\n",
    "chart1"
   ]
  },
  {
   "cell_type": "code",
   "execution_count": null,
   "metadata": {
    "collapsed": false
   },
   "outputs": [],
   "source": [
    "def listar_subvenciones_mes_grupo(datos, grupo):\n",
    "    query_importes_mes_grupo = \"grupo_pres == '%s'\" % grupo\n",
    "    importes = datos.query(query_importes_mes_grupo)\\\n",
    "        .sort('mes_concesion_timestamp')\\\n",
    "        .set_index('mes_concesion_timestamp')['importe']\n",
    "    return list(importes)"
   ]
  },
  {
   "cell_type": "code",
   "execution_count": null,
   "metadata": {
    "collapsed": false
   },
   "outputs": [],
   "source": [
    "chart4_name = \"Subvenciones por área\"\n",
    "chart4 = nvd3.stackedAreaChart(name=chart4_name,height=450,width=850,use_interactive_guideline=True, x_is_date=True)\n",
    "chart4.set_containerheader(\"\\n\\n<h2>\" + chart4_name + \"</h2>\\n\\n\")\n",
    "xdata = list(subvenciones_por_mes_grupo.mes_concesion_timestamp.drop_duplicates())\n",
    "\n",
    "for grupo in subvenciones_mes_grupo_trabajo.grupo_pres.order().drop_duplicates():\n",
    "    chart4.add_serie(name=grupo, y=listar_subvenciones_mes_grupo(subvenciones_mes_grupo_trabajo,grupo), x=xdata)\n",
    "\n",
    "chart4.margin_left = 100\n",
    "chart4"
   ]
  },
  {
   "cell_type": "markdown",
   "metadata": {
    "collapsed": false
   },
   "source": [
    "Por Identificadores\n",
    "-------------------"
   ]
  },
  {
   "cell_type": "code",
   "execution_count": null,
   "metadata": {
    "collapsed": false
   },
   "outputs": [],
   "source": [
    "subvenciones['tipo_beneficiario'] = subvenciones['id_beneficiario'].apply(lambda x: (\"%s\" % x)[0])\n",
    "subvenciones['id_beneficiario'].apply(lambda x: (\"%s\" % x)[0])#.drop_duplicates()"
   ]
  },
  {
   "cell_type": "code",
   "execution_count": null,
   "metadata": {
    "collapsed": false
   },
   "outputs": [],
   "source": [
    "#subvenciones['id_beneficiario'].apply(lambda x: (\"%s\" % x)[1:3])#.drop_duplicates()\n",
    "subvenciones['id_beneficiario'].apply(obtener_tipo_cif)"
   ]
  },
  {
   "cell_type": "code",
   "execution_count": null,
   "metadata": {
    "collapsed": false
   },
   "outputs": [],
   "source": [
    "subvenciones.query(\"tipo_beneficiario_cod =='P' and provincia == 'Madrid'\")['id_beneficiario']"
   ]
  },
  {
   "cell_type": "code",
   "execution_count": null,
   "metadata": {
    "collapsed": true
   },
   "outputs": [],
   "source": [
    "subvenciones.groupby(['provincia']).count()\n",
    "#subvenciones.query(\"provincia =='Teruel'\")['id_beneficiario']"
   ]
  },
  {
   "cell_type": "code",
   "execution_count": 13,
   "metadata": {
    "collapsed": false
   },
   "outputs": [
    {
     "data": {
      "text/plain": [
       "0    27/03/15\n",
       "1    27/03/15\n",
       "2    27/03/15\n",
       "3    27/03/15\n",
       "4    27/03/15\n",
       "Name: fecha_concesion, dtype: object"
      ]
     },
     "execution_count": 13,
     "metadata": {},
     "output_type": "execute_result"
    }
   ],
   "source": [
    "subvenciones['fecha_concesion'].head()"
   ]
  },
  {
   "cell_type": "code",
   "execution_count": 15,
   "metadata": {
    "collapsed": false
   },
   "outputs": [
    {
     "data": {
      "text/plain": [
       "0        1503\n",
       "1        1503\n",
       "2        1503\n",
       "3        1503\n",
       "4        1503\n",
       "5        1503\n",
       "6        1503\n",
       "7        1503\n",
       "8        1503\n",
       "9        1503\n",
       "10       1503\n",
       "11       1503\n",
       "12       1503\n",
       "13       1503\n",
       "14       1503\n",
       "15       1503\n",
       "16       1503\n",
       "17       1503\n",
       "18       1503\n",
       "19       1503\n",
       "20       1503\n",
       "21       1503\n",
       "22       1503\n",
       "23       1503\n",
       "24       1503\n",
       "25       1503\n",
       "26       1503\n",
       "27       1503\n",
       "28       1503\n",
       "29       1503\n",
       "         ... \n",
       "71073    1401\n",
       "71074    1401\n",
       "71075    1401\n",
       "71076    1401\n",
       "71077    1401\n",
       "71078    1401\n",
       "71079    1401\n",
       "71080    1401\n",
       "71081    1401\n",
       "71082    1401\n",
       "71083    1401\n",
       "71084    1401\n",
       "71085    1401\n",
       "71086    1401\n",
       "71087    1401\n",
       "71088    1401\n",
       "71089    1401\n",
       "71090    1401\n",
       "71091    1401\n",
       "71092    1401\n",
       "71093    1401\n",
       "71094    1401\n",
       "71095    1401\n",
       "71096    1401\n",
       "71097    1401\n",
       "71098    1401\n",
       "71099    1401\n",
       "71100    1401\n",
       "71101    1401\n",
       "71102    1401\n",
       "Name: fecha_concesion, dtype: object"
      ]
     },
     "execution_count": 15,
     "metadata": {},
     "output_type": "execute_result"
    }
   ],
   "source": [
    "subvenciones['fecha_concesion'].apply(lambda x: \"%s%s\" % (x.split('/')[2],x.split('/')[1]))"
   ]
  },
  {
   "cell_type": "code",
   "execution_count": 24,
   "metadata": {
    "collapsed": false
   },
   "outputs": [
    {
     "data": {
      "text/plain": [
       "0    201503\n",
       "1    201503\n",
       "2    201503\n",
       "3    201503\n",
       "4    201503\n",
       "Name: fecha_concesion, dtype: object"
      ]
     },
     "execution_count": 24,
     "metadata": {},
     "output_type": "execute_result"
    }
   ],
   "source": [
    "#subvenciones['fecha_concesion'].head().apply(lambda x: datetime.strptime(x, '%d/%m/%y'))\n",
    "#subvenciones['fecha_concesion'].head()\n",
    "subvenciones['fecha_concesion'].head().apply(lambda x: x.strftime('%Y%m'))"
   ]
  },
  {
   "cell_type": "code",
   "execution_count": null,
   "metadata": {
    "collapsed": true
   },
   "outputs": [],
   "source": []
  }
 ],
 "metadata": {
  "kernelspec": {
   "display_name": "Python 2",
   "language": "python",
   "name": "python2"
  },
  "language_info": {
   "codemirror_mode": {
    "name": "ipython",
    "version": 2
   },
   "file_extension": ".py",
   "mimetype": "text/x-python",
   "name": "python",
   "nbconvert_exporter": "python",
   "pygments_lexer": "ipython2",
   "version": "2.7.6"
  }
 },
 "nbformat": 4,
 "nbformat_minor": 0
}
