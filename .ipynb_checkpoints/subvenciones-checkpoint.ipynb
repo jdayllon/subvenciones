{
 "cells": [
  {
   "cell_type": "code",
   "execution_count": 119,
   "metadata": {
    "collapsed": false
   },
   "outputs": [
    {
     "data": {
      "text/html": [
       "<link media=\"all\" href=\"https://cdnjs.cloudflare.com/ajax/libs/nvd3/1.7.0/nv.d3.min.css\" type=\"text/css\"\n",
       "                        rel=\"stylesheet\"/>"
      ],
      "text/plain": [
       "<IPython.core.display.HTML object>"
      ]
     },
     "metadata": {},
     "output_type": "display_data"
    },
    {
     "data": {
      "application/javascript": [
       "$.getScript(\"https://cdnjs.cloudflare.com/ajax/libs/nvd3/1.7.0/nv.d3.min.js\")"
      ],
      "text/plain": [
       "<IPython.core.display.Javascript object>"
      ]
     },
     "metadata": {},
     "output_type": "display_data"
    },
    {
     "data": {
      "application/javascript": [
       "$.getScript(\"https://cdnjs.cloudflare.com/ajax/libs/d3/3.5.5/d3.min.js\", function() {\n",
       "                              $.getScript(\"https://cdnjs.cloudflare.com/ajax/libs/nvd3/1.7.0/nv.d3.min.js\", function() {})});"
      ],
      "text/plain": [
       "<IPython.core.display.Javascript object>"
      ]
     },
     "metadata": {},
     "output_type": "display_data"
    },
    {
     "data": {
      "text/html": [
       "<script src=\"https://cdnjs.cloudflare.com/ajax/libs/d3/3.5.5/d3.min.js\"></script>"
      ],
      "text/plain": [
       "<IPython.core.display.HTML object>"
      ]
     },
     "metadata": {},
     "output_type": "display_data"
    },
    {
     "data": {
      "text/html": [
       "<script src=\"https://cdnjs.cloudflare.com/ajax/libs/nvd3/1.7.0/nv.d3.min.js\"></script>"
      ],
      "text/plain": [
       "<IPython.core.display.HTML object>"
      ]
     },
     "metadata": {},
     "output_type": "display_data"
    }
   ],
   "source": [
    "from __future__ import division\n",
    "import csv,sys\n",
    "import numpy as np\n",
    "import pandas as pd\n",
    "import matplotlib.pyplot as plt\n",
    "from datetime import datetime, timedelta\n",
    "import time, locale\n",
    "from IPython import display as d\n",
    "import nvd3\n",
    "#from nvd3.discreteBarChart import DiscreteBarChart\n",
    "\n",
    "reload(sys)  # Reload does the trick!\n",
    "sys.setdefaultencoding('UTF8')\n",
    "\n",
    "nvd3.ipynb.initialize_javascript(use_remote=True)\n",
    "\n",
    "locale.setlocale(locale.LC_ALL, 'es_ES')\n",
    "locale.setlocale(locale.LC_ALL, 'C')\n",
    "locale.format(\"%10.2f\", 1234.567, grouping=True) \n",
    "pd.options.display.float_format = '{:,.2f}'.format\n",
    "\n",
    "# Static files\n",
    "FILE_SUBVENCIONES = 'data/datos_subvenciones.csv'\n",
    "FILE_AYUDAS = 'data/ayudas.json'\n",
    "FILE_ELECCIONES = 'data/04_201105_1.csv'\n",
    "FILE_MUNICIPIOS = 'data/smex99.csv'\n",
    "# Referencias de partidas del presupuesto: http://www.juntadeandalucia.es/haciendayadministracionpublica/planif_presup/proy_presupuesto2014/presentacion/presentacion-5.pdf\n",
    "\n",
    "\n",
    "def totimestamp(dt, epoch=datetime(1970,1,1)):\n",
    "    td = dt - epoch\n",
    "    ttime = (td.microseconds + (td.seconds + td.days * 86400) * 10**6) / 10**6 \n",
    "    return ttime * 1000\n",
    "\n",
    "def filtra_importes_grupo(row, grupo):\n",
    "    if row['grupo_pres'] == grupo:\n",
    "        return row['importe']\n",
    "    else:\n",
    "        return 0"
   ]
  },
  {
   "cell_type": "code",
   "execution_count": 120,
   "metadata": {
    "collapsed": false
   },
   "outputs": [],
   "source": [
    "#Read files\n",
    "subvenciones = pd.read_csv(FILE_SUBVENCIONES, decimal=',')\n",
    "ayudas = pd.read_json(FILE_AYUDAS)\n",
    "municipios = pd.read_csv(FILE_MUNICIPIOS, quotechar='\"', sep=';', decimal=',', thousands='.')\n",
    "elecciones = pd.read_csv(FILE_ELECCIONES, quotechar='\"', sep=';', decimal=',', thousands='.')"
   ]
  },
  {
   "cell_type": "markdown",
   "metadata": {},
   "source": [
    "El importe total de las subvenciones includas en los datos abiertos es:"
   ]
  },
  {
   "cell_type": "code",
   "execution_count": 121,
   "metadata": {
    "collapsed": false
   },
   "outputs": [
    {
     "data": {
      "text/plain": [
       "1028817129.8299986"
      ]
     },
     "execution_count": 121,
     "metadata": {},
     "output_type": "execute_result"
    }
   ],
   "source": [
    "subvenciones['importe'].sum()"
   ]
  },
  {
   "cell_type": "code",
   "execution_count": 122,
   "metadata": {
    "collapsed": false
   },
   "outputs": [],
   "source": [
    "subvenciones['mes_concesion'] = subvenciones['fecha_concesion'].apply(lambda x: datetime.fromtimestamp(x).strftime('%Y%m'))\n",
    "subvenciones['fecha_concesion_tmp'] = subvenciones['fecha_concesion'].apply(lambda x: datetime.fromtimestamp(x).strftime('%Y-%m-%d'))\n",
    "subvenciones['mes_concesion_timestamp'] = subvenciones['fecha_concesion'].apply(lambda x: totimestamp(datetime(datetime.fromtimestamp(x).year, datetime.fromtimestamp(x).month,1,0,0)))\n",
    "subvenciones['grupo_pres'] = subvenciones['programa'].apply(lambda x: (\"%s\" % x)[0])"
   ]
  },
  {
   "cell_type": "code",
   "execution_count": 123,
   "metadata": {
    "collapsed": false
   },
   "outputs": [],
   "source": [
    "subvenciones_por_fecha = subvenciones.groupby('fecha_concesion').sum()\n",
    "subvenciones_por_mes = subvenciones.groupby('mes_concesion_timestamp').sum()\n",
    "subvenciones_por_mes_grupo = subvenciones.groupby(['mes_concesion_timestamp','grupo_pres']).sum().reset_index()"
   ]
  },
  {
   "cell_type": "code",
   "execution_count": 124,
   "metadata": {
    "collapsed": false
   },
   "outputs": [
    {
     "ename": "NameError",
     "evalue": "name 'DiscreteBarChart' is not defined",
     "output_type": "error",
     "traceback": [
      "\u001b[0;31m---------------------------------------------------------------------------\u001b[0m",
      "\u001b[0;31mNameError\u001b[0m                                 Traceback (most recent call last)",
      "\u001b[0;32m<ipython-input-124-0c5eae938466>\u001b[0m in \u001b[0;36m<module>\u001b[0;34m()\u001b[0m\n\u001b[1;32m      1\u001b[0m \u001b[0mtype\u001b[0m \u001b[0;34m=\u001b[0m \u001b[0;34m'DiscreteBarChart'\u001b[0m \u001b[0;31m#'stackedAreaChart'\u001b[0m\u001b[0;34m\u001b[0m\u001b[0m\n\u001b[0;32m----> 2\u001b[0;31m \u001b[0mchart2\u001b[0m \u001b[0;34m=\u001b[0m \u001b[0mDiscreteBarChart\u001b[0m\u001b[0;34m(\u001b[0m\u001b[0mname\u001b[0m\u001b[0;34m=\u001b[0m\u001b[0mtype\u001b[0m\u001b[0;34m,\u001b[0m\u001b[0mheight\u001b[0m\u001b[0;34m=\u001b[0m\u001b[0;36m450\u001b[0m\u001b[0;34m,\u001b[0m\u001b[0mwidth\u001b[0m\u001b[0;34m=\u001b[0m\u001b[0;36m850\u001b[0m\u001b[0;34m,\u001b[0m\u001b[0muse_interactive_guideline\u001b[0m\u001b[0;34m=\u001b[0m\u001b[0mTrue\u001b[0m\u001b[0;34m,\u001b[0m \u001b[0mx_is_date\u001b[0m\u001b[0;34m=\u001b[0m\u001b[0mTrue\u001b[0m\u001b[0;34m)\u001b[0m\u001b[0;34m\u001b[0m\u001b[0m\n\u001b[0m\u001b[1;32m      3\u001b[0m \u001b[0;31m#nb_element = 50\u001b[0m\u001b[0;34m\u001b[0m\u001b[0;34m\u001b[0m\u001b[0m\n\u001b[1;32m      4\u001b[0m \u001b[0;31m#xdata = range(len(list(subvenciones_por_mes.index)))\u001b[0m\u001b[0;34m\u001b[0m\u001b[0;34m\u001b[0m\u001b[0m\n\u001b[1;32m      5\u001b[0m \u001b[0mxdata\u001b[0m \u001b[0;34m=\u001b[0m \u001b[0mlist\u001b[0m\u001b[0;34m(\u001b[0m\u001b[0msubvenciones_por_mes\u001b[0m\u001b[0;34m.\u001b[0m\u001b[0mindex\u001b[0m\u001b[0;34m)\u001b[0m\u001b[0;34m\u001b[0m\u001b[0m\n",
      "\u001b[0;31mNameError\u001b[0m: name 'DiscreteBarChart' is not defined"
     ]
    }
   ],
   "source": [
    "type = 'DiscreteBarChart' #'stackedAreaChart'\n",
    "chart2 = DiscreteBarChart(name=type,height=450,width=850,use_interactive_guideline=True, x_is_date=True)\n",
    "#nb_element = 50\n",
    "#xdata = range(len(list(subvenciones_por_mes.index)))\n",
    "xdata = list(subvenciones_por_mes.index)\n",
    "ydata = list(subvenciones_por_mes['importe'])\n",
    "chart2.add_serie(name=\"Ejecución Subvenciones\", y=ydata, x=xdata)\n",
    "chart2.margin_left = 100\n",
    "chart2"
   ]
  },
  {
   "cell_type": "code",
   "execution_count": 127,
   "metadata": {
    "collapsed": false
   },
   "outputs": [],
   "source": [
    "elecciones['Nombre de Comunidad'] = elecciones['Nombre de Comunidad'].apply(lambda x: x.rstrip())\n",
    "filas_andalucia = elecciones['Nombre de Comunidad'] == 'Andaluc\\xc3\\xada' #Andalucía\n",
    "#cols_elecciones_significativas = (elecciones[rows_andalucia].sum() > 1000)\n",
    "#resumen_elecciones_andalucia = elecciones[filas_andalucia][elecciones.columns[cols_elecciones_significativas]]"
   ]
  },
  {
   "cell_type": "code",
   "execution_count": 128,
   "metadata": {
    "collapsed": false
   },
   "outputs": [],
   "source": [
    "subvenciones_por_finalidad = subvenciones.groupby('finalidad').sum().sort('importe',ascending=0).reset_index()"
   ]
  },
  {
   "cell_type": "code",
   "execution_count": 129,
   "metadata": {
    "collapsed": false
   },
   "outputs": [],
   "source": [
    "lista_meses_timestamp = subvenciones_por_mes_grupo['mes_concesion_timestamp'].unique()\n",
    "lista_grupos = subvenciones_por_mes_grupo['grupo_pres'].unique()"
   ]
  },
  {
   "cell_type": "code",
   "execution_count": 131,
   "metadata": {
    "collapsed": false
   },
   "outputs": [],
   "source": [
    "def nueva_fila_mes_grupo(mes, grupo, importe = 0,id=0):\n",
    "    new_data = { 'mes_concesion_timestamp' : [mes],\n",
    "             'grupo_pres' : [grupo],\n",
    "             'importe': [0], \n",
    "             'fecha_concesion' : [0],\n",
    "             'id': [id]}\n",
    "    return pd.DataFrame(new_data)\n",
    "\n",
    "subvenciones_mes_grupo_trabajo = subvenciones_por_mes_grupo.copy(deep=True)\n",
    "contador_id = subvenciones_mes_grupo_trabajo['id'].argmax()\n",
    "\n",
    "for mes in lista_meses_timestamp:\n",
    "    for grupo in lista_grupos:\n",
    "        query_mes_grupo = \"mes_concesion_timestamp == %d & grupo_pres == '%s'\" % (mes, grupo)\n",
    "        resultados_query = subvenciones_mes_grupo_trabajo.query(query_mes_grupo)\n",
    "        if len(resultados_query) == 0:\n",
    "            contador_id += 1\n",
    "            subvenciones_mes_grupo_trabajo = pd.concat([subvenciones_mes_grupo_trabajo,nueva_fila_mes_grupo(mes,grupo,id=contador_id)])\n",
    "\n",
    "            \n",
    "#subvenciones_mes_grupo_trabajo"
   ]
  },
  {
   "cell_type": "markdown",
   "metadata": {},
   "source": [
    "Subvenciones por área del presupuesto\n",
    "---------------------\n",
    "\n",
    "Utilizando el identificador del presupuesto podemos agrupar las ayudas por el xxx del presupuesto de la Junta de Andalucía y su distribución a lo largo del tiempo."
   ]
  },
  {
   "cell_type": "code",
   "execution_count": 239,
   "metadata": {
    "collapsed": false
   },
   "outputs": [
    {
     "data": {
      "text/html": [
       "<!DOCTYPE html>\n",
       "<html lang=\"en\">\n",
       "    <head>\n",
       "        <meta charset=\"utf-8\" />\n",
       "        <link href=\"//cdnjs.cloudflare.com/ajax/libs/nvd3/1.7.0/nv.d3.min.css\" rel=\"stylesheet\" />\n",
       "        <script src=\"//cdnjs.cloudflare.com/ajax/libs/d3/3.5.5/d3.min.js\"></script>\n",
       "        <script src=\"//cdnjs.cloudflare.com/ajax/libs/nvd3/1.7.0/nv.d3.min.js\"></script>\n",
       "    </head>\n",
       "    <body>\n",
       "        \n",
       "    \n",
       "\n",
       "<h2>pieChart</h2>\n",
       "\n",
       "<div id=\"piechart\"><svg style=\"width:450px;height:450px;\"></svg></div>\n",
       "\n",
       "\n",
       "    <script>\n",
       "\n",
       "\n",
       "\n",
       "    data_piechart=[{\"values\": [{\"value\": 5003046.6399999997, \"label\": \"1\"}, {\"value\": 122937.5, \"label\": \"2\"}, {\"value\": 396559469.7699998, \"label\": \"3\"}, {\"value\": 102125816.85000011, \"label\": \"4\"}, {\"value\": 64895744.609999985, \"label\": \"5\"}, {\"value\": 350000.0, \"label\": \"6\"}, {\"value\": 288387954.08000004, \"label\": \"7\"}, {\"value\": 86420825.86999999, \"label\": \"8\"}, {\"value\": 84951334.51000002, \"label\": \"n\"}], \"key\": \"Serie 1\"}];\n",
       "\n",
       "    nv.addGraph(function() {\n",
       "        var chart = nv.models.pieChart();\n",
       "        chart.margin({top: 30, right: 60, bottom: 20, left: 60});\n",
       "        var datum = data_piechart[0].values;\n",
       "\n",
       "    chart.tooltipContent(function(key, y, e, graph) {\n",
       "          var x = String(key);\n",
       "              var y =  String(y)  + ' cal';\n",
       "\n",
       "              tooltip_str = '<center><b>'+x+'</b></center>' + y;\n",
       "              return tooltip_str;\n",
       "              });\n",
       "        chart.showLabels(true);\n",
       "\n",
       "            chart.donut(true);\n",
       "            chart.donutRatio(0.35);\n",
       "\n",
       "    chart.showLegend(true);\n",
       "\n",
       "\n",
       "\n",
       "\n",
       "        chart\n",
       "            .x(function(d) { return d.label })\n",
       "            .y(function(d) { return d.value });\n",
       "\n",
       "        chart.width(450);\n",
       "\n",
       "        chart.height(450);\n",
       "\n",
       "\n",
       "            d3.select('#piechart svg')\n",
       "            .datum(datum)\n",
       "            .transition().duration(500)\n",
       "            .attr('width', 450)\n",
       "            .attr('height', 450)\n",
       "            .call(chart);\n",
       "\n",
       "\n",
       "        });\n",
       "\n",
       "\n",
       "\n",
       "    </script>\n",
       "\n",
       "    </body>\n",
       "</html>"
      ],
      "text/plain": [
       "<nvd3.pieChart.pieChart at 0x1139920d0>"
      ]
     },
     "execution_count": 239,
     "metadata": {},
     "output_type": "execute_result"
    }
   ],
   "source": [
    "subvenciones_por_grupo = subvenciones_por_mes_grupo.groupby('grupo_pres').sum()\n",
    "\n",
    "type = 'pieChart'\n",
    "chart1 = nvd3.pieChart(name=type, color_category='category20c', height=450, width=450)\n",
    "chart1.set_containerheader(\"\\n\\n<h2>\" + type + \"</h2>\\n\\n\")\n",
    "\n",
    "#Create the keys\n",
    "xdata = list(subvenciones_por_grupo.index)\n",
    "ydata = list(subvenciones_por_grupo.importe)\n",
    "\n",
    "#Add the serie\n",
    "extra_serie = {\"tooltip\": {\"y_start\": \"\", \"y_end\": \" cal\"}}\n",
    "chart1.add_serie(y=ydata, x=xdata, extra=extra_serie)\n",
    "chart1.show_labels = True\n",
    "chart1.donut = True\n",
    "chart1"
   ]
  },
  {
   "cell_type": "code",
   "execution_count": 177,
   "metadata": {
    "collapsed": false
   },
   "outputs": [],
   "source": [
    "def listar_subvenciones_mes_grupo(datos, grupo):\n",
    "    query_importes_mes_grupo = \"grupo_pres == '%s'\" % grupo\n",
    "    importes = datos.query(query_importes_mes_grupo)\\\n",
    "        .sort('mes_concesion_timestamp')\\\n",
    "        .set_index('mes_concesion_timestamp')['importe']\n",
    "    return list(importes)"
   ]
  },
  {
   "cell_type": "code",
   "execution_count": 233,
   "metadata": {
    "collapsed": false
   },
   "outputs": [
    {
     "data": {
      "text/html": [
       "<!DOCTYPE html>\n",
       "<html lang=\"en\">\n",
       "    <head>\n",
       "        <meta charset=\"utf-8\" />\n",
       "        <link href=\"//cdnjs.cloudflare.com/ajax/libs/nvd3/1.7.0/nv.d3.min.css\" rel=\"stylesheet\" />\n",
       "        <script src=\"//cdnjs.cloudflare.com/ajax/libs/d3/3.5.5/d3.min.js\"></script>\n",
       "        <script src=\"//cdnjs.cloudflare.com/ajax/libs/nvd3/1.7.0/nv.d3.min.js\"></script>\n",
       "    </head>\n",
       "    <body>\n",
       "        \n",
       "    \n",
       "\n",
       "<h2>Subvenciones por área</h2>\n",
       "\n",
       "<div id=\"subvenciones_por_area\"><svg style=\"width:850px;height:450px;\"></svg></div>\n",
       "\n",
       "\n",
       "    <script>\n",
       "\n",
       "\n",
       "            data_subvenciones_por_area=[{\"values\": [{\"y\": 0.0, \"x\": 1388534400000.0}, {\"y\": 2364606.0, \"x\": 1391212800000.0}, {\"y\": 0.0, \"x\": 1393632000000.0}, {\"y\": 0.0, \"x\": 1396310400000.0}, {\"y\": 0.0, \"x\": 1398902400000.0}, {\"y\": 0.0, \"x\": 1401580800000.0}, {\"y\": 421448.0, \"x\": 1404172800000.0}, {\"y\": 0.0, \"x\": 1406851200000.0}, {\"y\": 50000.0, \"x\": 1409529600000.0}, {\"y\": 11616.57, \"x\": 1412121600000.0}, {\"y\": 1647968.0699999998, \"x\": 1414800000000.0}, {\"y\": 18000.0, \"x\": 1417392000000.0}, {\"y\": 0.0, \"x\": 1420070400000.0}, {\"y\": 489408.0, \"x\": 1422748800000.0}, {\"y\": 0.0, \"x\": 1425168000000.0}], \"key\": \"1\", \"yAxis\": \"1\"}, {\"values\": [{\"y\": 0.0, \"x\": 1388534400000.0}, {\"y\": 95000.0, \"x\": 1391212800000.0}, {\"y\": 0.0, \"x\": 1393632000000.0}, {\"y\": 0.0, \"x\": 1396310400000.0}, {\"y\": 0.0, \"x\": 1398902400000.0}, {\"y\": 9437.5, \"x\": 1401580800000.0}, {\"y\": 6000.0, \"x\": 1404172800000.0}, {\"y\": 0.0, \"x\": 1406851200000.0}, {\"y\": 0.0, \"x\": 1409529600000.0}, {\"y\": 0.0, \"x\": 1412121600000.0}, {\"y\": 0.0, \"x\": 1414800000000.0}, {\"y\": 0.0, \"x\": 1417392000000.0}, {\"y\": 0.0, \"x\": 1420070400000.0}, {\"y\": 0.0, \"x\": 1422748800000.0}, {\"y\": 12500.0, \"x\": 1425168000000.0}], \"key\": \"2\", \"yAxis\": \"1\"}, {\"values\": [{\"y\": 11146019.829999993, \"x\": 1388534400000.0}, {\"y\": 1492566.3899999997, \"x\": 1391212800000.0}, {\"y\": 3176851.8699999982, \"x\": 1393632000000.0}, {\"y\": 5480667.4800000014, \"x\": 1396310400000.0}, {\"y\": 3291973.569999998, \"x\": 1398902400000.0}, {\"y\": 5533100.9200000009, \"x\": 1401580800000.0}, {\"y\": 8842959.929999996, \"x\": 1404172800000.0}, {\"y\": 4159566.5899999994, \"x\": 1406851200000.0}, {\"y\": 182916599.21999985, \"x\": 1409529600000.0}, {\"y\": 94617290.699999928, \"x\": 1412121600000.0}, {\"y\": 14292492.689999999, \"x\": 1414800000000.0}, {\"y\": 50871926.70000004, \"x\": 1417392000000.0}, {\"y\": 2603657.2400000002, \"x\": 1420070400000.0}, {\"y\": 159368.06, \"x\": 1422748800000.0}, {\"y\": 7974428.5799999991, \"x\": 1425168000000.0}], \"key\": \"3\", \"yAxis\": \"1\"}, {\"values\": [{\"y\": 0.0, \"x\": 1388534400000.0}, {\"y\": 189.13999999999999, \"x\": 1391212800000.0}, {\"y\": 5167464.7600000007, \"x\": 1393632000000.0}, {\"y\": 443889.48000000004, \"x\": 1396310400000.0}, {\"y\": 5509609.79, \"x\": 1398902400000.0}, {\"y\": 12113859.98, \"x\": 1401580800000.0}, {\"y\": 40008855.560000002, \"x\": 1404172800000.0}, {\"y\": 1076443.9499999995, \"x\": 1406851200000.0}, {\"y\": 5234775.5000000214, \"x\": 1409529600000.0}, {\"y\": 24092673.310000084, \"x\": 1412121600000.0}, {\"y\": 4971658.0, \"x\": 1414800000000.0}, {\"y\": 3130033.039999994, \"x\": 1417392000000.0}, {\"y\": 0.0, \"x\": 1420070400000.0}, {\"y\": 0.0, \"x\": 1422748800000.0}, {\"y\": 376364.33999999997, \"x\": 1425168000000.0}], \"key\": \"4\", \"yAxis\": \"1\"}, {\"values\": [{\"y\": 2003.52, \"x\": 1388534400000.0}, {\"y\": 10590151.619999999, \"x\": 1391212800000.0}, {\"y\": 303613.67999999999, \"x\": 1393632000000.0}, {\"y\": 250159.22999999975, \"x\": 1396310400000.0}, {\"y\": 545004.10000000021, \"x\": 1398902400000.0}, {\"y\": 7272535.8999999994, \"x\": 1401580800000.0}, {\"y\": 1067826.6500000001, \"x\": 1404172800000.0}, {\"y\": 5397381.3999999994, \"x\": 1406851200000.0}, {\"y\": 3008416.6400000001, \"x\": 1409529600000.0}, {\"y\": 7776686.5799999908, \"x\": 1412121600000.0}, {\"y\": 1000.0, \"x\": 1414800000000.0}, {\"y\": 28680965.290000003, \"x\": 1417392000000.0}, {\"y\": 0.0, \"x\": 1420070400000.0}, {\"y\": 0.0, \"x\": 1422748800000.0}, {\"y\": 0.0, \"x\": 1425168000000.0}], \"key\": \"5\", \"yAxis\": \"1\"}, {\"values\": [{\"y\": 0.0, \"x\": 1388534400000.0}, {\"y\": 0.0, \"x\": 1391212800000.0}, {\"y\": 350000.0, \"x\": 1393632000000.0}, {\"y\": 0.0, \"x\": 1396310400000.0}, {\"y\": 0.0, \"x\": 1398902400000.0}, {\"y\": 0.0, \"x\": 1401580800000.0}, {\"y\": 0.0, \"x\": 1404172800000.0}, {\"y\": 0.0, \"x\": 1406851200000.0}, {\"y\": 0.0, \"x\": 1409529600000.0}, {\"y\": 0.0, \"x\": 1412121600000.0}, {\"y\": 0.0, \"x\": 1414800000000.0}, {\"y\": 0.0, \"x\": 1417392000000.0}, {\"y\": 0.0, \"x\": 1420070400000.0}, {\"y\": 0.0, \"x\": 1422748800000.0}, {\"y\": 0.0, \"x\": 1425168000000.0}], \"key\": \"6\", \"yAxis\": \"1\"}, {\"values\": [{\"y\": 13555373.799999997, \"x\": 1388534400000.0}, {\"y\": 8168072.3000000007, \"x\": 1391212800000.0}, {\"y\": 27125700.68000013, \"x\": 1393632000000.0}, {\"y\": 44505775.700000003, \"x\": 1396310400000.0}, {\"y\": 21671308.550000004, \"x\": 1398902400000.0}, {\"y\": 29922474.620000005, \"x\": 1401580800000.0}, {\"y\": 8595435.3100000042, \"x\": 1404172800000.0}, {\"y\": 16609926.389999988, \"x\": 1406851200000.0}, {\"y\": 3553301.6300000008, \"x\": 1409529600000.0}, {\"y\": 48001925.679999977, \"x\": 1412121600000.0}, {\"y\": 25692143.139999997, \"x\": 1414800000000.0}, {\"y\": 37910611.019999944, \"x\": 1417392000000.0}, {\"y\": 0.0, \"x\": 1420070400000.0}, {\"y\": 2091674.0, \"x\": 1422748800000.0}, {\"y\": 984231.25999999815, \"x\": 1425168000000.0}], \"key\": \"7\", \"yAxis\": \"1\"}, {\"values\": [{\"y\": 0.0, \"x\": 1388534400000.0}, {\"y\": 0.0, \"x\": 1391212800000.0}, {\"y\": 398284.0, \"x\": 1393632000000.0}, {\"y\": 2393311.0, \"x\": 1396310400000.0}, {\"y\": 344928.0, \"x\": 1398902400000.0}, {\"y\": 44558872.32, \"x\": 1401580800000.0}, {\"y\": 299210.0, \"x\": 1404172800000.0}, {\"y\": 269999.15000000002, \"x\": 1406851200000.0}, {\"y\": 403585.44, \"x\": 1409529600000.0}, {\"y\": 4379692.4699999988, \"x\": 1412121600000.0}, {\"y\": 218188.0, \"x\": 1414800000000.0}, {\"y\": 33154755.489999998, \"x\": 1417392000000.0}, {\"y\": 0.0, \"x\": 1420070400000.0}, {\"y\": 0.0, \"x\": 1422748800000.0}, {\"y\": 0.0, \"x\": 1425168000000.0}], \"key\": \"8\", \"yAxis\": \"1\"}, {\"values\": [{\"y\": 275057.47000000003, \"x\": 1388534400000.0}, {\"y\": 5125164.7299999995, \"x\": 1391212800000.0}, {\"y\": 5357563.2800000003, \"x\": 1393632000000.0}, {\"y\": 5163649.4599999981, \"x\": 1396310400000.0}, {\"y\": 6104405.6600000039, \"x\": 1398902400000.0}, {\"y\": 3143724.6500000008, \"x\": 1401580800000.0}, {\"y\": 3599596.4500000011, \"x\": 1404172800000.0}, {\"y\": 1986140.7400000005, \"x\": 1406851200000.0}, {\"y\": 5219507.6399999978, \"x\": 1409529600000.0}, {\"y\": 38135783.940000005, \"x\": 1412121600000.0}, {\"y\": 6545984.549999998, \"x\": 1414800000000.0}, {\"y\": 4294755.9400000107, \"x\": 1417392000000.0}, {\"y\": 0.0, \"x\": 1420070400000.0}, {\"y\": 0.0, \"x\": 1422748800000.0}, {\"y\": 0.0, \"x\": 1425168000000.0}], \"key\": \"n\", \"yAxis\": \"1\"}];\n",
       "\n",
       "    nv.addGraph(function() {\n",
       "        var chart = nv.models.stackedAreaChart().useInteractiveGuideline(true);\n",
       "\n",
       "        chart.margin({top: 30, right: 60, bottom: 20, left: 100});\n",
       "\n",
       "        var datum = data_subvenciones_por_area;\n",
       "\n",
       "\n",
       "\n",
       "\n",
       "            chart.xAxis\n",
       "                .tickFormat(function(d) { return d3.time.format('%d %b %Y')(new Date(parseInt(d))) }\n",
       ");\n",
       "            chart.yAxis\n",
       "                .tickFormat(d3.format(',.2f'));\n",
       "\n",
       "                chart.tooltipContent(function(key, y, e, graph) {\n",
       "                    var x = d3.time.format(\"%d %b %Y\")(new Date(parseInt(graph.point.x)));\n",
       "                    var y = String(graph.point.y);\n",
       "                    var y = String(graph.point.y);\n",
       "\n",
       "                    tooltip_str = '<center><b>'+key+'</b></center>' + y + ' on ' + x;\n",
       "                    return tooltip_str;\n",
       "                });\n",
       "\n",
       "      chart.showLegend(true);\n",
       "\n",
       "\n",
       "\n",
       "        \n",
       "\n",
       "\n",
       "        d3.select('#subvenciones_por_area svg')\n",
       "            .datum(datum)\n",
       "            .transition().duration(500)\n",
       "            .attr('width', 850)\n",
       "            .attr('height', 450)\n",
       "            .call(chart);\n",
       "\n",
       "\n",
       "    });\n",
       "\n",
       "\n",
       "\n",
       "    </script>\n",
       "\n",
       "    </body>\n",
       "</html>"
      ],
      "text/plain": [
       "<nvd3.stackedAreaChart.stackedAreaChart at 0x113992e90>"
      ]
     },
     "execution_count": 233,
     "metadata": {},
     "output_type": "execute_result"
    }
   ],
   "source": [
    "chart4_name = \"Subvenciones por área\"\n",
    "chart4 = nvd3.stackedAreaChart(name=chart4_name,height=450,width=850,use_interactive_guideline=True, x_is_date=True)\n",
    "chart4.set_containerheader(\"\\n\\n<h2>\" + chart4_name + \"</h2>\\n\\n\")\n",
    "xdata = list(subvenciones_por_mes_grupo.mes_concesion_timestamp.drop_duplicates())\n",
    "\n",
    "for grupo in subvenciones_mes_grupo_trabajo.grupo_pres.order().drop_duplicates():\n",
    "    chart4.add_serie(name=grupo, y=listar_subvenciones_mes_grupo(subvenciones_mes_grupo_trabajo,grupo), x=xdata)\n",
    "\n",
    "chart4.margin_left = 100\n",
    "chart4"
   ]
  },
  {
   "cell_type": "code",
   "execution_count": null,
   "metadata": {
    "collapsed": false
   },
   "outputs": [],
   "source": []
  },
  {
   "cell_type": "code",
   "execution_count": null,
   "metadata": {
    "collapsed": true
   },
   "outputs": [],
   "source": []
  }
 ],
 "metadata": {
  "kernelspec": {
   "display_name": "Python 2",
   "language": "python",
   "name": "python2"
  },
  "language_info": {
   "codemirror_mode": {
    "name": "ipython",
    "version": 2
   },
   "file_extension": ".py",
   "mimetype": "text/x-python",
   "name": "python",
   "nbconvert_exporter": "python",
   "pygments_lexer": "ipython2",
   "version": "2.7.6"
  }
 },
 "nbformat": 4,
 "nbformat_minor": 0
}
